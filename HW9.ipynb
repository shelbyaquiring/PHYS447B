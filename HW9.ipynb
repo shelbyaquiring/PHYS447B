{
 "cells": [
  {
   "attachments": {},
   "cell_type": "markdown",
   "metadata": {},
   "source": [
    "# PHYS 447B: Orbital Mechanics\n",
    "## Homework 9\n",
    "\n",
    "Shelby Quiring, 10157162, Feb 20th 2023\n",
    "\n",
    "Questions: 8.1, 8.4, 8.10"
   ]
  },
  {
   "cell_type": "code",
   "execution_count": 3,
   "metadata": {},
   "outputs": [],
   "source": [
    "# Library imports\n",
    "import numpy as np\n",
    "import matplotlib.pyplot as plt"
   ]
  },
  {
   "attachments": {},
   "cell_type": "markdown",
   "metadata": {},
   "source": [
    "### `Question 8.1`\n",
    "\n",
    "On 6 February 2006, when the earth is $147.4×10^6$ km from the sun, a spacecraft parked in a 200 km altitude circular earth orbit is to be launched directly into an elliptical orbit around the sun with perihelion of $120 × 10^6$ km and aphelion equal to the earth’s distance from the sun on the launch date. Calculate the delta-v required and v∞ of the departure hyperbola.\n",
    "\n",
    "{Ans.: v∞ = 30 km/s, $\\Delta v$ = 3.34 km/s}\n"
   ]
  },
  {
   "cell_type": "code",
   "execution_count": 25,
   "metadata": {},
   "outputs": [
    {
     "name": "stdout",
     "output_type": "stream",
     "text": [
      "Vinf: 31.58 [km/s] relative to Sun\n",
      "dV: 3.32 [km/s]\n"
     ]
    }
   ],
   "source": [
    "# Answer 8.1\n",
    "\n",
    "# Define inputs\n",
    "G = 6.67e-11\n",
    "mu = 1.327e11 * 1000**3\n",
    "Me = 5.9e24 # kg\n",
    "Re = 6371e3 # m, earth radius\n",
    "mu_e = G*Me\n",
    "\n",
    "# alculate initial and final radii\n",
    "R1 = 147.4e9 # m\n",
    "R2 = 120e9 # m\n",
    "\n",
    "# Earth velocity\n",
    "ve = np.sqrt(mu/R1)\n",
    "\n",
    "# Vc\n",
    "vc = np.sqrt(mu_e/(200e3 + Re))\n",
    "\n",
    "# Calculate v inf\n",
    "v_inf = np.abs(np.sqrt(mu/R1) * (np.sqrt(2*R2 / (R1 + R2)) - 1)) \n",
    "print(f'Vinf: {np.round((v_inf + ve)*1e-3,2)} [km/s] relative to Sun')\n",
    "\n",
    "# Calculate dV\n",
    "dV = vc * (np.sqrt(2 + (v_inf / vc)**2) - 1)\n",
    "print(f'dV: {np.round(dV*1e-3,2)} [km/s]')"
   ]
  },
  {
   "attachments": {},
   "cell_type": "markdown",
   "metadata": {
    "slideshow": {
     "slide_type": "slide"
    }
   },
   "source": [
    "### `Question 8.4`\n",
    "\n",
    "Calculate the radius of the spheres of influence of Saturn, Uranus, Neptune and Pluto."
   ]
  },
  {
   "cell_type": "code",
   "execution_count": 34,
   "metadata": {},
   "outputs": [
    {
     "name": "stdout",
     "output_type": "stream",
     "text": [
      "SoI Saturn: 56.0 [10**6 km]\n",
      "SoI Uranus: 112.35 km\n",
      "SoI Neptune: 170.99 km\n",
      "SoI Pluto: 225.93 km\n"
     ]
    }
   ],
   "source": [
    "# Answer 8.4\n",
    "\n",
    "# Define inputs\n",
    "M_saturn = 5.683e26 # kg\n",
    "M_uranus = 8.681e25 # kg\n",
    "M_neptune = 1.024e26 # kg\n",
    "M_pluto = 1.309e22 # kg\n",
    "M_sun = 1.989e30 # kg\n",
    "\n",
    "R_saturn = 1.465e12 # m\n",
    "R_uranus = 2.939e12 # m\n",
    "R_neptune = 4.473e12 # m\n",
    "R_pluto = 5.91e12 # m\n",
    "\n",
    "R_SOI_s = R_saturn * (M_saturn / M_sun) ** (2/5)\n",
    "R_SOI_u = R_uranus * (M_uranus / M_sun) ** (2/5)\n",
    "R_SOI_n = R_neptune * (M_neptune / M_sun) ** (2/5)\n",
    "R_SOI_p = R_pluto * (M_pluto / M_sun) ** (2/5)\n",
    "\n",
    "print(f'SoI Saturn: {np.round(R_SOI_s*1e-9,2)} [10**6 km]')\n",
    "print(f'SoI Uranus: {np.round(R_SOI_u*1e-9,2)} [10**6 km]')\n",
    "print(f'SoI Neptune: {np.round(R_SOI_n*1e-9,2)} [10**6 km]')\n",
    "print(f'SoI Pluto: {np.round(R_SOI_p*1e-9,2)} [10**6 km]')"
   ]
  },
  {
   "attachments": {},
   "cell_type": "markdown",
   "metadata": {},
   "source": [
    "### `Question 8.10`\n",
    "\n",
    "Calculate the propellant mass required to launch a 2000 kg spacecraft from a 180 km circular earth orbit on a Hohmann transfer trajectory to Saturn. Calculate the time required for the mission and compare it to that of Cassini. Assume the propulsion system has a specific impulse of 300 s.\n",
    "\n",
    "{Ans.: 6.03 y; 21 810 kg}"
   ]
  },
  {
   "cell_type": "code",
   "execution_count": 30,
   "metadata": {},
   "outputs": [
    {
     "name": "stdout",
     "output_type": "stream",
     "text": [
      "Vinf: 10.44 [km/s] relative to Earth\n",
      "dV: 7.39 [km/s]\n",
      "Propellant Mass: 22642.0 [kg]\n",
      "dt: 6.0 yr\n"
     ]
    }
   ],
   "source": [
    "# Answer 8.10\n",
    "\n",
    "# Define inputs\n",
    "G = 6.67e-11\n",
    "mu = 1.327e11 * 1000**3 # mu sun\n",
    "Me = 5.9e24 # kg\n",
    "Re = 6371e3 # m, earth radius\n",
    "mu_e = G*Me\n",
    "m_dry = 2000 # kg\n",
    "Isp = 300 # s\n",
    "g0 = 9.80665 # m/s**2\n",
    "\n",
    "# Planet radii\n",
    "RE = 147.4e9 # m\n",
    "altitude = 180e3\n",
    "RS = 1.465e12 # m\n",
    "\n",
    "# Vc\n",
    "vc = np.sqrt(mu_e/(altitude + Re))\n",
    "\n",
    "# Calculate v inf\n",
    "v_inf = np.abs(np.sqrt(mu/RE) * (np.sqrt(2*RS / (RE + RS)) - 1)) \n",
    "print(f'Vinf: {np.round((v_inf)*1e-3,2)} [km/s] relative to Earth')\n",
    "\n",
    "# Calculate dV\n",
    "dV = vc * (np.sqrt(2 + (v_inf / vc)**2) - 1)\n",
    "print(f'dV: {np.round(dV*1e-3,2)} [km/s]')\n",
    "\n",
    "# Calculate required propellant mass\n",
    "m_wet = m_dry * np.exp(dV / (g0 * Isp))\n",
    "print(f'Propellant Mass: {np.round(m_wet - m_dry,2)} [kg]')\n",
    "\n",
    "# Calculate period of elliptical transfer orbit\n",
    "a = (RE +RS) / 2 # Semimajor axis, m\n",
    "T = 2*np.pi/np.sqrt(mu) * a**(3/2)\n",
    "dt = T/2\n",
    "yr = dt / (365*24*3600)\n",
    "\n",
    "print(f'dt: {np.round(yr)} yr')\n"
   ]
  }
 ],
 "metadata": {
  "kernelspec": {
   "display_name": "Python 3",
   "language": "python",
   "name": "python3"
  },
  "language_info": {
   "codemirror_mode": {
    "name": "ipython",
    "version": 3
   },
   "file_extension": ".py",
   "mimetype": "text/x-python",
   "name": "python",
   "nbconvert_exporter": "python",
   "pygments_lexer": "ipython3",
   "version": "3.10.1"
  },
  "orig_nbformat": 4,
  "vscode": {
   "interpreter": {
    "hash": "ad3745c47a52df6303fadb7ab340967cc6b722f5f069df5e239b86fc995e40f7"
   }
  }
 },
 "nbformat": 4,
 "nbformat_minor": 2
}
