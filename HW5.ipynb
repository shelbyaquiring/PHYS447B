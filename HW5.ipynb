{
 "cells": [
  {
   "attachments": {},
   "cell_type": "markdown",
   "metadata": {},
   "source": [
    "# PHYS 447B: Orbital Mechanics\n",
    "## Homework 5\n",
    "\n",
    "Shelby Quiring, 10157162, Feb 20th 2023\n",
    "\n",
    "Questions: 4.13, 4.14, 4.17, 4.18"
   ]
  },
  {
   "cell_type": "code",
   "execution_count": null,
   "metadata": {},
   "outputs": [],
   "source": [
    "# Library imports\n",
    "import numpy as np\n",
    "import matplotlib.pyplot as plt"
   ]
  },
  {
   "attachments": {},
   "cell_type": "markdown",
   "metadata": {},
   "source": [
    "### `Question 4.13`\n",
    "\n",
    "For a spacecraft, the following orbital parameters are given: e = 1.2; perigee altitude = 200 km; i = 50◦; $\\Omega$ = 75◦; ω = 80◦. Calculate r and v at perigee relative to \n",
    "\n",
    "(a) the perifocal reference frame, and\n",
    "(b) the geocentric equatorial frame.\n",
    "\n",
    "{Ans.: (a) $r = 6578 \\hat{p} (km); v = 11.55\\hat{q} (km/s)$, \n",
    "\n",
    "(b) $r = − 3726\\hat{I} + 2181\\hat{J} + 4962\\hat{K}$ (km), \n",
    "$v = −4.188\\hat{I} − 10.65\\hat{J} + 1.536\\hat{K} (km/s)$}\n"
   ]
  },
  {
   "attachments": {},
   "cell_type": "markdown",
   "metadata": {},
   "source": [
    "#### Answer 4.13\n",
    "\n",
    "To solve this problem we implement the rotation matrix algorithm describes in Appendix D9:"
   ]
  },
  {
   "cell_type": "code",
   "execution_count": 6,
   "metadata": {},
   "outputs": [
    {
     "name": "stdout",
     "output_type": "stream",
     "text": [
      "PERIFOCAL:\n",
      "Position: [6570.    0.    0.] [km]\n",
      "Velocity: [-0.   11.48  0.  ] [km/s]\n",
      "\n",
      "GEOCENTRIC EQUATORIAL:\n",
      "Position: [-3721.96  2178.41  4956.45] [km]\n",
      "Velocity: [ -4.16 -10.59   1.53] [km/s]\n"
     ]
    }
   ],
   "source": [
    "# Answer 4.13\n",
    "\n",
    "G = 6.67e-11\n",
    "Me = 5.9e24 # kg\n",
    "mu = G*Me\n",
    "Re = 6370e3 # m\n",
    "\n",
    "def sv_from_coe(h, e, omega, i, w, theta, mu):\n",
    "    # Calculate the perifocal position and velocity\n",
    "    rp = h**2/mu * 1/(1 + e*np.cos(theta)) * np.array([np.cos(theta), np.sin(theta), 0])\n",
    "    vp = mu/h * np.array([-np.sin(theta), e + np.cos(theta), 0])\n",
    "\n",
    "    # Calculate rotation matricies\n",
    "    R_omega = np.array([\n",
    "        [np.cos(omega), -np.sin(omega), 0],\n",
    "        [np.sin(omega), np.cos(omega), 0],\n",
    "        [0, 0, 1]\n",
    "    ])\n",
    "\n",
    "    R_i = np.array([\n",
    "        [1, 0, 0],\n",
    "        [0, np.cos(i), -np.sin(i)],\n",
    "        [0, np.sin(i), np.cos(i)]        \n",
    "    ])\n",
    "\n",
    "    R_w = np.array([\n",
    "        [np.cos(w), -np.sin(w), 0],\n",
    "        [np.sin(w), np.cos(w), 0],\n",
    "        [0, 0, 1]\n",
    "    ])\n",
    "\n",
    "    # Combine rotation matricied\n",
    "    Q_1 = np.matmul(R_omega, R_i)\n",
    "    Q_px = np.matmul(Q_1, R_w)\n",
    "\n",
    "    # Calculate position and velocity in geocentric equatorial frame\n",
    "    rg = np.matmul(Q_px, rp)\n",
    "    vg = np.matmul(Q_px, vp)\n",
    "\n",
    "    return rg, vg, rp, vp\n",
    "\n",
    "e = 1.2\n",
    "i = 50 * np.pi/180\n",
    "omega = 75 * np.pi/180\n",
    "w = 80 * np.pi/180\n",
    "theta = 0\n",
    "\n",
    "r_perigee = 200e3 + Re\n",
    "h = np.sqrt(r_perigee * mu * (1 + e))\n",
    "\n",
    "rg, vg, rp, vp = sv_from_coe(h, e, omega, i, w, theta, mu)\n",
    "\n",
    "print('PERIFOCAL:')\n",
    "print(f'Position: {np.round(rp*1e-3, 2)} [km]')\n",
    "print(f'Velocity: {np.round(vp*1e-3, 2)} [km/s]')\n",
    "\n",
    "print('\\nGEOCENTRIC EQUATORIAL:')\n",
    "print(f'Position: {np.round(rg*1e-3, 2)} [km]')\n",
    "print(f'Velocity: {np.round(vg*1e-3, 2)} [km/s]')\n"
   ]
  },
  {
   "attachments": {},
   "cell_type": "markdown",
   "metadata": {
    "slideshow": {
     "slide_type": "slide"
    }
   },
   "source": [
    "### `Question 4.14`\n",
    "\n",
    "For the spacecraft of Exercise 4.13 calculate $r$ and $v$ at two hours past perigee relative to\n",
    "(a) the perifocal reference frame, and\n",
    "(b) the geocentric equatorial frame.\n",
    "\n",
    "{Ans.: \n",
    "\n",
    "(a) r = −26 340 $\\hat{p}$ + 37 810 $\\hat{q}$ (km), v = −4.306 $\\hat{p}$ + 3.298 $\\hat{q}$ (km/s) \n",
    "\n",
    "(b) r = 1207 $\\hat{I}$ − 43 600 $\\hat{J}$ − 14 840 $\\hat{K}$ (km), v = 1.243 $\\hat{I}$ − 4.4700 $\\hat{J}$ − 2.810 $\\hat{K}$ (km/s)}"
   ]
  },
  {
   "attachments": {},
   "cell_type": "markdown",
   "metadata": {},
   "source": [
    "#### Answer 4.14\n",
    "\n",
    "We continue to use code developed in Q4.13 to solve for position and velocity with a new true anomaly. The true anomaly can be calculated by generating a vector of true anomaly from 0 to $2\\pi$, calculating the time since perigee for every element in the vector, then interpolating both arrays to get the true anomaly at 2 hours past perigee."
   ]
  },
  {
   "cell_type": "code",
   "execution_count": 15,
   "metadata": {},
   "outputs": [
    {
     "name": "stdout",
     "output_type": "stream",
     "text": [
      "PERIFOCAL:\n",
      "Position: [-26159.91  37649.76      0.  ] [km]\n",
      "Velocity: [-4.29  3.28  0.  ] [km/s]\n",
      "\n",
      "GEOCENTRIC EQUATORIAL:\n",
      "Position: [  1164.16 -43400.54 -14726.95] [km]\n",
      "Velocity: [ 1.24 -4.45 -2.8 ] [km/s]\n"
     ]
    }
   ],
   "source": [
    "# Answer 4.14\n",
    "\n",
    "from scipy.interpolate import interp1d\n",
    "from scipy.integrate import cumtrapz\n",
    "\n",
    "# Define inputs\n",
    "G = 6.67e-11\n",
    "Me = 5.9e24 # kg\n",
    "mu = G*Me\n",
    "Re = 6370e3 # m\n",
    "\n",
    "e = 1.2\n",
    "i = 50 * np.pi/180\n",
    "omega = 75 * np.pi/180\n",
    "w = 80 * np.pi/180\n",
    "t = 2 * 3600 # s, time since perigee\n",
    "\n",
    "# Calculate time for all true anomalies and interpolate to get theta at t\n",
    "thetavec = np.linspace(0, 2*np.pi, 1000)\n",
    "integrand = 1 / (1 + e*np.cos(thetavec))**2\n",
    "timevec = [0] + list(h**3/mu**2 * cumtrapz(integrand, thetavec))\n",
    "f_theta = interp1d(timevec, thetavec, kind='cubic')\n",
    "theta = f_theta(t)\n",
    "\n",
    "\n",
    "r_perigee = 200e3 + Re\n",
    "h = np.sqrt(r_perigee * mu * (1 + e))\n",
    "\n",
    "rg, vg, rp, vp = sv_from_coe(h, e, omega, i, w, theta, mu)\n",
    "\n",
    "print('PERIFOCAL:')\n",
    "print(f'Position: {np.round(rp*1e-3, 2)} [km]')\n",
    "print(f'Velocity: {np.round(vp*1e-3, 2)} [km/s]')\n",
    "\n",
    "print('\\nGEOCENTRIC EQUATORIAL:')\n",
    "print(f'Position: {np.round(rg*1e-3, 2)} [km]')\n",
    "print(f'Velocity: {np.round(vg*1e-3, 2)} [km/s]')"
   ]
  },
  {
   "attachments": {},
   "cell_type": "markdown",
   "metadata": {},
   "source": [
    "### `Question 4.17`\n",
    "\n",
    "A satellite in earth orbit has the following orbital parameters: a = 7016 km, e = 0.05,\n",
    "i = 45◦, $\\Omega$ = 0◦, ω = 20◦ and θ = 10◦. Find the position vector in the geocentricequatorial frame.\n",
    "{Ans.: r = 5776.4 $\\hat{I}$ + 2358.2 $\\hat{J}$ + 2358.2 $\\hat{K}$ (km)}"
   ]
  },
  {
   "attachments": {},
   "cell_type": "markdown",
   "metadata": {},
   "source": [
    "#### Answer 4.17\n",
    "\n",
    "We calculate angular momentum $h$ from the semimajor axis $a$ using Equation 2.61 (below), and apply the function developed for Q4.13.\n",
    "\n",
    "\\begin{equation}\n",
    "a = \\frac{h^2}{\\mu} \\frac{1}{1-e}\n",
    "\\end{equation}"
   ]
  },
  {
   "cell_type": "code",
   "execution_count": 16,
   "metadata": {},
   "outputs": [
    {
     "name": "stdout",
     "output_type": "stream",
     "text": [
      "PERIFOCAL:\n",
      "Position: [6568.69 1158.24    0.  ] [km]\n",
      "Velocity: [-1.3   7.76  0.  ] [km/s]\n",
      "\n",
      "GEOCENTRIC EQUATORIAL:\n",
      "Position: [5776.41 2358.21 2358.21] [km]\n",
      "Velocity: [-3.88  4.84  4.84] [km/s]\n"
     ]
    }
   ],
   "source": [
    "# Answer 4.17\n",
    "\n",
    "# Define inputs\n",
    "G = 6.67e-11\n",
    "Me = 5.9e24 # kg\n",
    "mu = G*Me\n",
    "Re = 6370e3 # m\n",
    "\n",
    "a = 7016e3\n",
    "e = 0.05\n",
    "i = 45 * np.pi/180\n",
    "omega = 0 * np.pi/180\n",
    "w = 20 * np.pi/180\n",
    "theta = 10 * np.pi/180\n",
    "\n",
    "h = np.sqrt(a * mu * (1 - e**2))\n",
    "\n",
    "rg, vg, rp, vp = sv_from_coe(h, e, omega, i, w, theta, mu)\n",
    "\n",
    "print('PERIFOCAL:')\n",
    "print(f'Position: {np.round(rp*1e-3, 2)} [km]')\n",
    "print(f'Velocity: {np.round(vp*1e-3, 2)} [km/s]')\n",
    "\n",
    "print('\\nGEOCENTRIC EQUATORIAL:')\n",
    "print(f'Position: {np.round(rg*1e-3, 2)} [km]')\n",
    "print(f'Velocity: {np.round(vg*1e-3, 2)} [km/s]')"
   ]
  },
  {
   "attachments": {},
   "cell_type": "markdown",
   "metadata": {},
   "source": [
    "### `Question 4.18`\n",
    "\n",
    "Calculate the orbital inclination required to place an earth satellite in a 500 km by\n",
    "1000 km sun-synchronous orbit.\n",
    "{Ans.: 98.37◦}"
   ]
  },
  {
   "attachments": {},
   "cell_type": "markdown",
   "metadata": {},
   "source": [
    "#### Answer 4.18\n",
    "\n",
    "To answer this question, we consider the precession of the ascending node $\\dot{\\Omega}$ due to oblateness perturbations:\n",
    "\n",
    "\\begin{gather}\n",
    "\\dot{\\Omega} = -[ \\frac{3}{2} \\frac{\\sqrt{\\mu}J_2R^2}{(1-e^2)^2a^{\\frac{7}{2}}} ]\\cos{i}\n",
    "\\end{gather}\n",
    "\n",
    "To be sun-synchronous, the orbit must precess at a rate of 1/360 degrees per day. "
   ]
  },
  {
   "cell_type": "code",
   "execution_count": 35,
   "metadata": {},
   "outputs": [
    {
     "name": "stdout",
     "output_type": "stream",
     "text": [
      "Inclination for SSO: 97.1794 [deg]\n"
     ]
    },
    {
     "data": {
      "image/png": "[encoded data removed]",
      "text/plain": [
       "<Figure size 640x480 with 1 Axes>"
      ]
     },
     "metadata": {},
     "output_type": "display_data"
    }
   ],
   "source": [
    "# Answer 4.18\n",
    "\n",
    "# Define inputs\n",
    "G = 6.67e-11\n",
    "Me = 5.9e24 # kg\n",
    "mu = G*Me\n",
    "Re = 6370e3 # m\n",
    "J2 =  1.08263e-3\n",
    "\n",
    "omega_dot_target = 360/365.25 * (np.pi/180) / (24 * 3600)\n",
    "\n",
    "a = Re + 1000e3 \n",
    "b = Re + 500e3 \n",
    "\n",
    "# Calculate eccentricity\n",
    "e = np.sqrt(1 - b**2/a**2)\n",
    "\n",
    "# Plot the problem\n",
    "N = 1000\n",
    "ivec = np.linspace(0, 2*np.pi, N) \n",
    "omega_dot = - ((3/2) * (np.sqrt(mu) * J2 * Re**2) / ((1-e**2)**2 * a**(7/2))) * np.cos(ivec)\n",
    "\n",
    "\n",
    "fig, ax = plt.subplots()\n",
    "ax.plot(ivec * (180 / np.pi), omega_dot * (180 / np.pi), label='Precession Rate vs i')\n",
    "ax.axhline(omega_dot_target * (180 / np.pi), color='0.5', linestyle='--', label='Sun-Synchronous Precesession Rate')\n",
    "ax.set_xlabel('Incliation i [deg]')\n",
    "ax.set_ylabel('RAAN Precession Rate [deg/s]')\n",
    "ax.set_title('RAAN Precession Rate vs Inclination')\n",
    "ax.grid('enable')\n",
    "ax.legend()\n",
    "\n",
    "# Calculate i for SSO\n",
    "i = np.arccos(omega_dot_target * - ((3/2) * (np.sqrt(mu) * J2 * Re**2) / ((1-e**2)**2*a**(7/2)))**-1)\n",
    "print(f'Inclination for SSO: {np.round(i * 180/np.pi, 4)} [deg]') \n"
   ]
  }
 ],
 "metadata": {
  "kernelspec": {
   "display_name": "Python 3",
   "language": "python",
   "name": "python3"
  },
  "language_info": {
   "codemirror_mode": {
    "name": "ipython",
    "version": 3
   },
   "file_extension": ".py",
   "mimetype": "text/x-python",
   "name": "python",
   "nbconvert_exporter": "python",
   "pygments_lexer": "ipython3",
   "version": "3.10.1"
  },
  "orig_nbformat": 4,
  "vscode": {
   "interpreter": {
    "hash": "ad3745c47a52df6303fadb7ab340967cc6b722f5f069df5e239b86fc995e40f7"
   }
  }
 },
 "nbformat": 4,
 "nbformat_minor": 2
}
