{
 "cells": [
  {
   "attachments": {},
   "cell_type": "markdown",
   "metadata": {},
   "source": [
    "# PHYS 447B: Orbital Mechanics\n",
    "## Homework 6\n",
    "\n",
    "Shelby Quiring, 10157162, Feb 20th 2023\n",
    "\n",
    "Questions: 5.1, 5.4, 5.28"
   ]
  },
  {
   "cell_type": "code",
   "execution_count": 1,
   "metadata": {},
   "outputs": [],
   "source": [
    "# Library imports\n",
    "import numpy as np\n",
    "import matplotlib.pyplot as plt\n",
    "from estimators import *"
   ]
  },
  {
   "attachments": {},
   "cell_type": "markdown",
   "metadata": {},
   "source": [
    "### `Question 5.1`\n",
    "\n",
    "The geocentric equatorial position vectors of a satellite at three separate times are:\n",
    "\n",
    "r1 = 5887 $\\hat{I}$ − 3520 $\\hat{J}$ − 1204 $\\hat{K}$ (km)\n",
    "\n",
    "r2 = 5572 $\\hat{I}$ − 3457 $\\hat{J}$ − 2376 $\\hat{K}$ (km)\n",
    "\n",
    "r3 = 5088 $\\hat{I}$ − 3289 $\\hat{J}$ − 3480 $\\hat{K}$ (km)\n",
    "\n",
    "Use Gibbs’ method to find v2.\n",
    "\n",
    "{Partial ans.: v2 = 7.59 km/s}\n"
   ]
  },
  {
   "cell_type": "code",
   "execution_count": 4,
   "metadata": {},
   "outputs": [
    {
     "name": "stdout",
     "output_type": "stream",
     "text": [
      "Magnitude of v2: 7.54 km/s\n"
     ]
    }
   ],
   "source": [
    "# Answer 5.1\n",
    "# Define inputs\n",
    "G = 6.67e-11\n",
    "Me = 5.9e24 # kg\n",
    "mu = G*Me\n",
    "\n",
    "r1 = np.array([5887, -3520, -1204]) * 1e3 # m\n",
    "r2 = np.array([5572, -3457, -2376]) * 1e3 # m\n",
    "r3 = np.array([5088, -3289, -3480]) * 1e3 # m\n",
    "\n",
    "_, v2 = gibbs(r1, r2, r3, mu)\n",
    "\n",
    "print(f'Magnitude of v2: {np.round(np.linalg.norm(v2)*1e-3, 2)} km/s')\n"
   ]
  },
  {
   "attachments": {},
   "cell_type": "markdown",
   "metadata": {
    "slideshow": {
     "slide_type": "slide"
    }
   },
   "source": [
    "### `Question 5.4`\n",
    "\n",
    "At a given instant, the geocentric equatorial position vector of an earth satellite is:\n",
    "\n",
    "r1 = −3600 $\\hat{I}$ + 3600 $\\hat{J}$ + 5100 $\\hat{K}$ (km)\n",
    "\n",
    "Thirty minutes later the position is:\n",
    "\n",
    "r2 = −5500 $\\hat{I}$ − 6240 $\\hat{J}$ − 520 $\\hat{K}$ (km)\n",
    "\n",
    "Calculate v1 and v2.\n",
    "{Partial ans.: v1 = 7.711 km/s, v2 = 6.670 km/s}"
   ]
  },
  {
   "cell_type": "code",
   "execution_count": 2,
   "metadata": {},
   "outputs": [
    {
     "name": "stdout",
     "output_type": "stream",
     "text": [
      "Magnitude of v1: 7.68 km/s\n",
      "Magnitude of v2: 6.65 km/s\n"
     ]
    }
   ],
   "source": [
    "# Answer 5.4\n",
    "# Define inputs\n",
    "G = 6.67e-11\n",
    "Me = 5.9e24 # kg\n",
    "mu = G*Me\n",
    "\n",
    "r1 = np.array([-3600, 3600, 5100]) * 1e3 # m\n",
    "r2 = np.array([-5500, -6240, -520]) * 1e3 # m\n",
    "dt = 30 * 60 # s\n",
    "\n",
    "r1, v1, r2, v2 = lambert(r1, r2, dt, mu, format='sv_both')\n",
    "\n",
    "print(f'Magnitude of v1: {np.round(np.linalg.norm(v1)*1e-3, 2)} km/s')\n",
    "print(f'Magnitude of v2: {np.round(np.linalg.norm(v2)*1e-3, 2)} km/s')"
   ]
  },
  {
   "attachments": {
    "image.png": {
     "image/png": "[encoded data removed]"
    }
   },
   "cell_type": "markdown",
   "metadata": {},
   "source": [
    "### `Question 5.28`\n",
    "\n",
    "The position vector R of a tracking station and the direction cosine vector \u0001ˆ of a satellite\n",
    "relative to the tracking station at three times are as follows:\n",
    "\n",
    "![image.png](attachment:image.png)\n",
    "\n",
    "Use the Gauss method without iterative improvement to estimate the state vector of the\n",
    "satellite.\n",
    "{Partial ans.: r = 9729.6 km, v = 6.0234 km/s}"
   ]
  },
  {
   "cell_type": "code",
   "execution_count": 3,
   "metadata": {},
   "outputs": [
    {
     "name": "stdout",
     "output_type": "stream",
     "text": [
      "Magnitude of r2: 9737.12 km/s\n",
      "Magnitude of v2: 6.03 km/s\n"
     ]
    }
   ],
   "source": [
    "# Answer 5.28\n",
    "# Note: Neglectiong the 'without iteration', using Gauss with iteration\n",
    "\n",
    "# Define inputs\n",
    "G = 6.67e-11\n",
    "Me = 5.9e24 # kg\n",
    "mu = G*Me\n",
    "\n",
    "R1 = np.array([5582.84, 0, 3073.90]) * 1e3 # m\n",
    "R2 = np.array([5581.50, 122.122, 3073.90]) * 1e3 # m\n",
    "R3 = np.array([5577.50, 244.186, 3073.90]) * 1e3 # m\n",
    "\n",
    "rho1 = np.array([0.846428, 0, 0.532504])\n",
    "rho2 = np.array([0.749290, 0.463023, 0.473470])\n",
    "rho3 = np.array([0.529447, 0.777163, 0.340152])\n",
    "\n",
    "t1 = 0\n",
    "t2 = 5*60 # s\n",
    "t3 = 10*60 # s\n",
    "\n",
    "r2, v2 = gauss(R1, R2, R3, rho1, rho2, rho3, t1, t2, t3, mu)\n",
    "\n",
    "print(f'Magnitude of r2: {np.round(np.linalg.norm(r2)*1e-3, 2)} km/s')\n",
    "print(f'Magnitude of v2: {np.round(np.linalg.norm(v2)*1e-3, 2)} km/s')"
   ]
  }
 ],
 "metadata": {
  "kernelspec": {
   "display_name": "Python 3",
   "language": "python",
   "name": "python3"
  },
  "language_info": {
   "codemirror_mode": {
    "name": "ipython",
    "version": 3
   },
   "file_extension": ".py",
   "mimetype": "text/x-python",
   "name": "python",
   "nbconvert_exporter": "python",
   "pygments_lexer": "ipython3",
   "version": "3.10.1"
  },
  "orig_nbformat": 4,
  "vscode": {
   "interpreter": {
    "hash": "ad3745c47a52df6303fadb7ab340967cc6b722f5f069df5e239b86fc995e40f7"
   }
  }
 },
 "nbformat": 4,
 "nbformat_minor": 2
}
