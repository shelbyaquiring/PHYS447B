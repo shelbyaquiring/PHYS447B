{
 "cells": [
  {
   "attachments": {},
   "cell_type": "markdown",
   "metadata": {},
   "source": [
    "# PHYS 447B: Orbital Mechanics\n",
    "## Homework 1\n",
    "\n",
    "Shelby Quiring, 10157162, Jan 13th 2023\n",
    "\n",
    "Questions: 1.3, 1.5, 1.7, 2.5, 2.7, 2.9"
   ]
  },
  {
   "cell_type": "code",
   "execution_count": 2,
   "metadata": {},
   "outputs": [],
   "source": [
    "# Library imports\n",
    "import numpy as np\n",
    "import matplotlib.pyplot as plt"
   ]
  },
  {
   "attachments": {
    "image.png": {
     "image/png": "[encoded data removed]"
    }
   },
   "cell_type": "markdown",
   "metadata": {},
   "source": [
    "### `Question 1.3`\n",
    "The absolute position, velocity and acceleration of O are\n",
    "\n",
    "\n",
    "\\begin{gather}\n",
    "r_O = 300 \\hat{I} + 200 \\hat{J} + 100 \\hat{K} (m) \\\\\n",
    "v_O = −10 \\hat{I} + 30 \\hat{J} − 50 \\hat{K} (m/s) \\\\\n",
    "a_O = 25 \\hat{I} + 40 \\hat{J} − 15 \\hat{K} (m/s^2)\n",
    "\\end{gather}\n",
    "\n",
    "\n",
    "The angular velocity and acceleration of the moving frame are\n",
    "\\begin{gather}\n",
    "\\Omega = 0.6 \\hat{I} − 0.4 \\hat{J} + 1.0 \\hat{K} (rad/s) \\\\\n",
    "\\dot{\\Omega} = −0.4 \\hat{I} + 0.3 \\hat{J} − 1.0 \\hat{K} (rad/s^2)\n",
    "\\end{gather}\n",
    "\n",
    "The unit vectors of the moving frame are\n",
    "\\begin{gather}\n",
    "\\hat{i} = 0.57735 \\hat{I} + 0.57735 \\hat{J} + 0.57735 \\hat{K} \\\\\n",
    "\\hat{j} = −0.74296 \\hat{I} + 0.66475 \\hat{J} + 0.078206 \\hat{K} \\\\\n",
    "\\hat{k} = −0.33864 \\hat{I} − 0.47410 \\hat{J} + 0.81274 \\hat{K}\n",
    "\\end{gather}\n",
    "\n",
    "The absolute position of P is\n",
    "\\begin{gather}\n",
    "r = 150 \\hat{I} − 200 \\hat{J} + 300 \\hat{K} (m)\n",
    "\\end{gather}\n",
    "\n",
    "The velocity and acceleration of P relative to the moving frame are\n",
    "\\begin{gather}\n",
    "v_{rel} = −20 \\hat{i} + 25 \\hat{j} + 70 \\hat{k} (m/s) \\\\\n",
    "a_{rel} = 7.5 \\hat{i} − 8.5 \\hat{j} + 6.0 \\hat{k} (m/s^2)\n",
    "\\end{gather}\n",
    "\n",
    "\n",
    "Calculate the absolute velocity $v_P$ and acceleration $a_P$ of P. \n",
    "\n",
    "<center>\n",
    "\n",
    "![image.png](attachment:image.png) <br>\n",
    "**Fig:** Absolute and Relative Position Vectors\n",
    "</center>\n",
    "\n",
    "\n",
    "{Ans.:\n",
    "\\begin{gather}\n",
    "v_P = 478.7 \\hat{u}_v (m/s), \\hat{u}_v = 0.5352 \\hat{I} − 0.5601 \\hat{J} − 0.6324 \\hat{K} \\\\\n",
    "a_P = 616.3 \\hat{u}_a (m/s^2), \\hat{u}_a = 0.1655 \\hat{I} + 0.9759 \\hat{J} + 0.1424 \\hat{K}\n",
    "\\end{gather}\n",
    "}\n"
   ]
  },
  {
   "attachments": {},
   "cell_type": "markdown",
   "metadata": {},
   "source": [
    "#### Answer 1.3\n",
    "\n",
    "From Equation 1.35, we have that the absolute velocity is the sum of the absolute velocity of the origin of the moving frame and the relative velocity in that frame, with Equation 1.36 defining the time derivative of the relative position vector:\n",
    "\n",
    "\\begin{gather}\n",
    "\\textbf{v}_p = \\textbf{v}_O + \\frac{d \\textbf{r}_{rel}}{dt} \\\\\n",
    "\\frac{d \\textbf{r}_{rel}}{dt} = \\textbf{v}_{rel} + \\boldsymbol{\\Omega} \\times \\textbf{r}_{rel}\n",
    "\\end{gather}\n",
    "\n",
    "Equation 1.42 defines the abolute acceleration using the 5-term acceleration model that captures the effects of the rotating and accelerating frame:\n",
    "\n",
    "\\begin{gather}\n",
    "\\textbf{a}_p = \n",
    "\\textbf{a}_O + \n",
    "\\boldsymbol{\\dot{\\Omega}} \\times \\textbf{r}_{rel} + \n",
    "\\boldsymbol{\\Omega} \\times ( \\boldsymbol{\\Omega} \\times \\textbf{r}_{rel} ) + \n",
    "\\boldsymbol{\\Omega} \\times \\textbf{v}_{rel} +\n",
    "\\textbf{a}_{rel}\n",
    "\\end{gather}\n",
    "\n",
    "\n",
    "To calculate the relative position vector we subtract $\\textbf{r}_O$ from $\\textbf{r}$:\n",
    "\n",
    "\\begin{gather}\n",
    "\\textbf{r}_{rel} = \\textbf{r} - \\textbf{r}_O \n",
    "\\end{gather}\n",
    "\n",
    "From this we can now evaluate the expressions above:"
   ]
  },
  {
   "cell_type": "code",
   "execution_count": 26,
   "metadata": {},
   "outputs": [
    {
     "name": "stdout",
     "output_type": "stream",
     "text": [
      "Absolute Velocity v_p: [ 256.17403531 -268.11539381 -302.6996738 ]\n",
      "Magnitude: 478.68\n",
      "Direction: [ 0.535 -0.56  -0.632]\n",
      "\n",
      "Absolute Acceleration a_p: [102.00394902 601.42281409  87.74258554]\n",
      "Magnitude: 616.29\n",
      "Direction: [0.166 0.976 0.142]\n"
     ]
    }
   ],
   "source": [
    "# Evaluating Q1.3\n",
    "ro = np.array([300, 200, 100]) # Inertial frame\n",
    "vo = np.array([-10, 30, -50]) # Inertial frame\n",
    "ao = np.array([25, 40, -15]) # Inertial frame\n",
    "\n",
    "omega = np.array([0.6, -0.4, 1]) # Inertial frame\n",
    "omegaDot = np.array([-0.4, 0.3, -1]) # Inertial frame\n",
    "\n",
    "r = np.array([150, -200, 300]) # Inertial frame\n",
    " \n",
    "\n",
    "coordMatrix = np.array([\n",
    "    [0.57735, 0.57735, 0.57735],\n",
    "    [-0.74296, 0.66475, 0.078206],\n",
    "    [-0.33864, -0.47410, 0.81274]\n",
    "]) # Inertial to relative frame\n",
    "\n",
    "invCoodrMatrix = np.linalg.inv(coordMatrix)\n",
    "\n",
    "vrel_relative = np.array([-20, 25, 70]) # Relative frame\n",
    "arel_relative = np.array([7.5, -8.5, 6]) # Relative frame\n",
    "\n",
    "# Calculate r_rel\n",
    "rrel = r - ro\n",
    "\n",
    "# Convert v_rel to inertial frame\n",
    "vrel = invCoodrMatrix @ vrel_relative\n",
    "\n",
    "# Convert a_rel to inertial frame\n",
    "arel = invCoodrMatrix @ arel_relative\n",
    "\n",
    "# Calculate v_p\n",
    "vp = vo + vrel + np.cross(omega, rrel)\n",
    "print(f'Absolute Velocity v_p: {vp}')\n",
    "print(f'Magnitude: {np.round( np.sqrt(vp.dot(vp)), 2)}')\n",
    "print(f'Direction: {np.round( vp / np.sqrt(vp.dot(vp)), 3)}')\n",
    "\n",
    "\n",
    "# Calculate a_p\n",
    "ap = ao + np.cross(omegaDot, rrel) + np.cross(omega, np.cross(omega, rrel)) + \\\n",
    "     np.cross(2*omega, vrel) + arel\n",
    "print(f'\\nAbsolute Acceleration a_p: {ap}')\n",
    "print(f'Magnitude: {np.round( np.sqrt(ap.dot(ap)), 2)}')\n",
    "print(f'Direction: {np.round( ap / np.sqrt(ap.dot(ap)), 3)}')\n",
    "\n",
    "\n",
    "# Answer agrees with book :)"
   ]
  },
  {
   "attachments": {
    "image-2.png": {
     "image/png": "[encoded data removed]"
    }
   },
   "cell_type": "markdown",
   "metadata": {
    "slideshow": {
     "slide_type": "slide"
    }
   },
   "source": [
    "### `Question 1.5`\n",
    "\n",
    "An airplane in level flight at an altitude *h* and a uniform speed *v* passes directly over a radar tracking station *A*. Calculate the angular velocity $\\dot{\\theta}$ and angular acceleration of the radar antenna $\\ddot{\\theta}$ as well as the rate $\\dot{r}$ at which the airplane is moving away from the antenna. Use the equations of this chapter (rather than polar coordinates, which you can use to check your work). Attach the inertial frame of reference to the ground and assume a non-rotating earth. Attach the moving frame to the antenna, with the x axis pointing always from the antenna towards the airplane.\n",
    "\n",
    "<center>\n",
    "\n",
    "![1.5_Airplane](attachment:image-2.png) <br>\n",
    "**Fig:** Airplane over Radar Station\n",
    "</center>\n",
    "\n",
    "\n",
    "{Ans.: (a) $\\dot{\\theta} = v cos^2 (θ/h)$; (b) $\\ddot{\\theta} = −2v^2 cos^3 (θ) sin (θ/h^2)$; (c) $v_{rel} = v sin (θ)$}\n"
   ]
  },
  {
   "attachments": {},
   "cell_type": "markdown",
   "metadata": {},
   "source": [
    "#### Answer 1.5\n",
    "\n",
    "Solving analytically:\n",
    "\n",
    "a)\n",
    "\n",
    "\\begin{gather}\n",
    "tan (\\theta) = \\frac{vt}{h} \\\\\n",
    "\\frac{d}{dt} (tan (\\theta)) = \\frac{1}{cos^2 (\\theta)} \\dot{\\theta} = \\frac{v}{h} \\\\\n",
    "\\therefore \\dot{\\theta} = \\frac{v}{h} cos^2 (\\theta)\n",
    "\\end{gather}\n",
    "\n",
    "\n",
    "b)\n",
    "\n",
    "\\begin{gather}\n",
    "\\frac{d}{dt} \\dot{\\theta} = \\ddot{\\theta} = \\frac{v}{h} 2 (cos (\\theta)) (-sin (\\theta)) \\dot{\\theta} \\\\\n",
    "\\therefore \\ddot{\\theta} = \\frac{v^2}{h^2} cos^3 (\\theta) sin (\\theta)\n",
    "\\end{gather}\n",
    "\n",
    "\n",
    "c)\n",
    "\n",
    "\\begin{gather}\n",
    "sin (\\theta) = \\frac{v_{rel}}{v} \\\\\n",
    "\\therefore v_{rel} = v sin (\\theta)\n",
    "\\end{gather}"
   ]
  },
  {
   "attachments": {
    "image.png": {
     "image/png": "[encoded data removed]"
    }
   },
   "cell_type": "markdown",
   "metadata": {},
   "source": [
    "### `Question 1.7`\n",
    "\n",
    "At 29◦ north latitude, what is the deviation d from the vertical of a plumb bob at the end of a 30 m string, due to the earth’s rotation?\n",
    "\n",
    "<center>\n",
    "\n",
    "![image.png](attachment:image.png) <br>\n",
    "**Fig:** Plumb Bob\n",
    "</center>\n",
    "\n",
    "\n",
    "{Ans.: 44.1 mm to the south}"
   ]
  },
  {
   "attachments": {},
   "cell_type": "markdown",
   "metadata": {},
   "source": [
    "#### Answer 1.7\n",
    "\n",
    "Using Equation 1.56 to find the absolute acceleration on the bob due to the rotation of the Earth. \n",
    "\n",
    "\\begin{gather}\n",
    "\\textbf{a} = \n",
    "[ \\ddot{x} + \\frac{\\dot{x}(\\dot{z} - \\dot{y} tan (\\phi))}{R_e + z} + 2 \\Omega (\\dot{z} cos (\\phi) - \\dot{y} sin (\\phi)) ] \\hat{i} \\ + \\\\\n",
    "[ \\ddot{y} + \\frac{\\dot{y}\\dot{z} + \\dot{x}^2 tan (\\phi)}{R_e + z} + \\Omega sin (\\phi) ( \\Omega (R_E + z) cos (\\phi) + 2 \\dot{x}) ] \\hat{j} \\ + \\\\\n",
    "[ \\ddot{z} - \\frac{\\dot{x}^2 + \\dot{y}^2}{R_e + z} - \\Omega cos (\\phi) ( \\Omega (R_E + z) cos (\\phi) + 2 \\dot{x})] \\hat{k} \\\\\n",
    "\\end{gather}\n",
    "\n",
    "Supporting equations 1.49b:\n",
    "\n",
    "\\begin{gather}\n",
    "\\dot{x} = (R_e + z) \\dot{\\Lambda} cos (\\phi) = 0 [ \\Lambda = \\dot{\\Lambda} = 0 ] \\\\\n",
    "\\dot{y} = (R_e + z) \\dot{\\phi} = 0 \\\\\n",
    "\\dot{z} =  0\n",
    "\\end{gather}\n",
    "\n",
    "Simplifying:\n",
    "\n",
    "\\begin{gather}\n",
    "\\textbf{a} = \n",
    " \\Omega sin \\phi ( \\Omega (R_E + z) \\cos{\\phi} )  \\hat{j} \\ - \n",
    " \\Omega cos \\phi ( \\Omega (R_E + z) \\cos{\\phi} ) \\hat{k} \n",
    "\\end{gather}\n",
    "\n",
    "The acceleration due to gravity will be $-g \\hat{k}$. The tension in the rope will act to make the bob stationary, and therefore angle of the rope (or the deflection at the end) can be determined by solving for the tension.\n",
    "\n"
   ]
  },
  {
   "cell_type": "code",
   "execution_count": 43,
   "metadata": {},
   "outputs": [
    {
     "name": "stdout",
     "output_type": "stream",
     "text": [
      "Deviation: -43.62 mm\n"
     ]
    }
   ],
   "source": [
    "# Evaluating Q1.7\n",
    "\n",
    "Re = 6371e3 # m, Earth radius\n",
    "omega = (2 * np.pi)/ (24 * 60 * 60) # Rad/s, Earth spin speed\n",
    "z = 0\n",
    "phi = 29 * np.pi/180 # deg latitude\n",
    "L = 30 # m, line length\n",
    "\n",
    "# Calculating acceleration\n",
    "a = omega * (omega * (Re + z) * np.cos(phi)) * np.array([np.sin(phi), -np.cos(phi)])\n",
    "\n",
    "g = np.array([0, -9.8]) # m/s^2\n",
    "\n",
    "tension = -(a+g) # Solving for the tension in the rope\n",
    "d = (L * (tension[0] / tension[1])) * 1e3 # Calculating deviation\n",
    "print(f'Deviation: {np.round(d, 2)} mm')\n",
    "\n",
    "# Answer agrees with book :)"
   ]
  },
  {
   "attachments": {},
   "cell_type": "markdown",
   "metadata": {},
   "source": [
    "### `Question 2.5`\n",
    "\n",
    "A satellite is in a circular, 350 km orbit (i.e., it is 350 km above the  Earth’s surface).\n",
    "\n",
    "Calculate\n",
    "(a) the speed in km/s;\n",
    "(b) the period.\n",
    "\n",
    "\n",
    "{Ans.: (a) 7.697 km/s; (b) 91 min 32 s}"
   ]
  },
  {
   "attachments": {},
   "cell_type": "markdown",
   "metadata": {},
   "source": [
    "#### Answer 2.5\n",
    "\n",
    "Using Equation 2.35 for the velocity, given the following simplifications:\n",
    "\n",
    "\\begin{gather}\n",
    "\\mu = G(M_e + m) \\approx GM_e \\ \\ (M_e >> m) \\\\\n",
    "h = \\textbf{r} \\times \\mathbf{\\dot{r}} = |r||\\dot{r}| \\sin{\\theta} = |r||\\dot{r}| \\ \\ (circular \\ \\ orbit)\n",
    "\\end{gather} \n",
    "\n",
    "\\begin{gather}\n",
    "r = \\frac{h^2}{\\mu} \\frac{1}{1 + e \\cos{\\theta}} \\\\\n",
    "r \\mu = r^2 \\dot{r}^2 \\\\\n",
    "\\dot{r} = \\sqrt{\\frac{\\mu}{r}}\n",
    "\\end{gather}\n",
    "\n",
    "To get the period, we use Equation 2.45, $T_{circ} = \\frac{2 \\pi}{\\sqrt{\\mu}} r ^ \\frac{3}{2}$"
   ]
  },
  {
   "cell_type": "code",
   "execution_count": 61,
   "metadata": {},
   "outputs": [
    {
     "name": "stdout",
     "output_type": "stream",
     "text": [
      "Velocity: 7.6972 km/s\n",
      "Period: 5486.3136 s / 91.0 min, 26.0 s\n"
     ]
    }
   ],
   "source": [
    "# Answer 2.5\n",
    "\n",
    "Re = 6371e3 # m, Earth radius\n",
    "Me = 5.97e24 # kg, Earth mass\n",
    "G = 6.67e-11 # Gravitational constant\n",
    "altitude = 350e3 # m\n",
    "\n",
    "mu = G*Me # Approximation for small satellite mass\n",
    "r = Re + altitude\n",
    "\n",
    "v = np.sqrt(mu / r) # Tangential velocity\n",
    "print(f'Velocity: {np.round(v*1e-3, 4)} km/s')\n",
    "\n",
    "T = 2*np.pi / np.sqrt(mu) * r ** 1.5\n",
    "print(f'Period: {np.round(T, 4)} s / {np.round(T / 60)} min, {np.round((T/60 - np.round(T/60))*60)} s')"
   ]
  },
  {
   "attachments": {},
   "cell_type": "markdown",
   "metadata": {},
   "source": [
    "### `Question 2.7`\n",
    "\n",
    "It is desired to place a satellite in earth polar orbit such that successive ground tracks at the equator are spaced 3000 km apart. Determine the required altitude of the circular orbit.\n",
    "\n",
    "\n",
    "{Ans.: 1440 km}"
   ]
  },
  {
   "attachments": {},
   "cell_type": "markdown",
   "metadata": {},
   "source": [
    "#### Answer 2.7\n",
    "\n",
    "To answer this question, we assume that the orbit does not precess about the Earth, but that the relative movement at the equator is due to the rotation of the Earth. We caucluate the time for the Earth at the equator to rotate 3000 km, and use the circular orbit period formula $T_{circ} = \\frac{2 \\pi}{\\sqrt{\\mu}} r ^ \\frac{3}{2}$."
   ]
  },
  {
   "cell_type": "code",
   "execution_count": 82,
   "metadata": {},
   "outputs": [
    {
     "name": "stdout",
     "output_type": "stream",
     "text": [
      "Circular Orbit Altitude: 1135.0\n"
     ]
    }
   ],
   "source": [
    "# Answer 2.7\n",
    "\n",
    "Re = 6371e3 # m, Earth radius\n",
    "Me = 5.97e24 # kg, Earth mass\n",
    "G = 6.67e-11 # Gravitational constant\n",
    "\n",
    "mu = G*Me\n",
    "\n",
    "a = 3000e3 / Re # Angle between successive ground tracks, rad\n",
    "T = 24 * 3600 * a / (2*np.pi) # Required orbital period, s\n",
    "\n",
    "r = (T * np.sqrt(mu) / (2*np.pi))**(2/3)\n",
    "altitude = r - Re\n",
    "print(f'Circular Orbit Altitude: {np.round(altitude*1e-3)}')\n",
    "\n",
    "# Close but not quite (?)"
   ]
  },
  {
   "attachments": {},
   "cell_type": "markdown",
   "metadata": {
    "tags": []
   },
   "source": [
    "### `Question 2.9`\n",
    "\n",
    "What velocity, relative to the earth, is required to escape the solar system on a parabolic\n",
    "path from the earth’s orbit?\n",
    "\n",
    "\n",
    "{Ans.: 12.34 km/s}"
   ]
  },
  {
   "attachments": {},
   "cell_type": "markdown",
   "metadata": {},
   "source": [
    "#### Answer 2.9\n",
    "\n",
    "Using Equation 2.81, $v_{esc} \\sqrt{\\frac{2 \\mu}{r}}$"
   ]
  },
  {
   "cell_type": "code",
   "execution_count": 91,
   "metadata": {},
   "outputs": [
    {
     "name": "stdout",
     "output_type": "stream",
     "text": [
      "Escape Velocity: 11.18 km/s\n"
     ]
    }
   ],
   "source": [
    "# Answer 2.9\n",
    "\n",
    "Re = 6371e3 # m, Earth radius\n",
    "Me = 5.97e24 # kg, Earth mass\n",
    "G = 6.67e-11 # Gravitational constant\n",
    "\n",
    "mu = G*Me\n",
    "\n",
    "v = np.sqrt(2*mu/(Re))\n",
    "\n",
    "print(f'Escape Velocity: {np.round(v*1e-3, 2)} km/s')\n",
    "\n",
    "# Does not agree - what??"
   ]
  }
 ],
 "metadata": {
  "kernelspec": {
   "display_name": "Python 3",
   "language": "python",
   "name": "python3"
  },
  "language_info": {
   "codemirror_mode": {
    "name": "ipython",
    "version": 3
   },
   "file_extension": ".py",
   "mimetype": "text/x-python",
   "name": "python",
   "nbconvert_exporter": "python",
   "pygments_lexer": "ipython3",
   "version": "3.10.1"
  },
  "orig_nbformat": 4,
  "vscode": {
   "interpreter": {
    "hash": "ad3745c47a52df6303fadb7ab340967cc6b722f5f069df5e239b86fc995e40f7"
   }
  }
 },
 "nbformat": 4,
 "nbformat_minor": 2
}
