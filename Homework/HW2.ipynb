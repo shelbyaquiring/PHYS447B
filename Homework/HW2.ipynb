{
 "cells": [
  {
   "attachments": {},
   "cell_type": "markdown",
   "metadata": {},
   "source": [
    "# PHYS 447B: Orbital Mechanics\n",
    "## Homework 2\n",
    "\n",
    "Shelby Quiring, 10157162, Jan 15th 2023\n",
    "\n",
    "Questions: 2.17, 2.22, 2.35, 2.37"
   ]
  },
  {
   "cell_type": "code",
   "execution_count": 2,
   "metadata": {},
   "outputs": [],
   "source": [
    "# Library imports\n",
    "import numpy as np\n",
    "import matplotlib.pyplot as plt"
   ]
  },
  {
   "attachments": {},
   "cell_type": "markdown",
   "metadata": {},
   "source": [
    "### `Question 2.17`\n",
    "\n",
    "A satellite is placed into an earth orbit at perigee at an altitude of 1270 km with a speed of 9 km/s. Calculate the flight path angle γ and the altitude of the satellite at a true anomaly of 100◦.\n",
    "\n",
    "{Ans.: γ = 31.1◦; z = 6774 km}"
   ]
  },
  {
   "attachments": {},
   "cell_type": "markdown",
   "metadata": {},
   "source": [
    "#### Answer 2.17\n",
    "\n",
    "Using Equation 2.42 to calculate flight path angle as a function of true anomaly:\n",
    "\n",
    "\\begin{equation}\n",
    "\\tan{\\gamma} = \\frac{e \\sin{\\theta}}{1 + e \\cos{\\theta}}\n",
    "\\end{equation}\n",
    "\n",
    "\n",
    "Eccentricity can be calcuated from Equation 2.35, at perigee, and can be used to calculate the altitude later in flight:\n",
    "\n",
    "\\begin{gather}\n",
    "r = \\frac{h^2}{\\mu} \\frac{1}{1+e\\cos{\\theta}} \\\\\n",
    "\\therefore e = \\frac{h^2}{\\mu r} - 1 \\ \\ (At \\ Perigee)\n",
    "\\end{gather}"
   ]
  },
  {
   "cell_type": "code",
   "execution_count": 4,
   "metadata": {},
   "outputs": [
    {
     "name": "stdout",
     "output_type": "stream",
     "text": [
      "Flight Angle: 31.13 deg\n"
     ]
    }
   ],
   "source": [
    "# Answer 2.17\n",
    "\n",
    "Re = 6371e3 # m, Earth radius\n",
    "Me = 5.97e24 # kg, Earth mass\n",
    "G = 6.67e-11 # Gravitational constant\n",
    "rp = 1270e3 # Perigee altitude, m\n",
    "vp = 9e3 # Perigee velocity, m/s\n",
    "\n",
    "theta = 100 * np.pi / 180 # rad, true anomaly\n",
    "\n",
    "r = rp + Re\n",
    "mu = G*Me\n",
    "h = r * vp\n",
    "\n",
    "e = (h**2 / (mu * r)) - 1 # Calculating the eccentricity\n",
    "\n",
    "# Calculating the flight angle \n",
    "gamma = np.arctan(e * np.sin(theta) / (1 + e * np.cos(theta)))\n",
    "print(f'Flight Angle: {np.round(gamma * 180 / np.pi, 2)} deg')\n",
    "\n",
    "# Calculating the altitude\n",
    "r = (h**2 / (mu * r)) \n"
   ]
  },
  {
   "attachments": {},
   "cell_type": "markdown",
   "metadata": {
    "slideshow": {
     "slide_type": "slide"
    }
   },
   "source": [
    "### `Question 2.22`\n",
    "\n",
    "A satellite in polar orbit around the earth comes within 150 km of the North Pole at its point of closest approach. If the satellite passes over the pole once every 90 minutes, calculate the eccentricity of its orbit.\n",
    "\n",
    "{Ans.: 0.0187}"
   ]
  },
  {
   "attachments": {},
   "cell_type": "markdown",
   "metadata": {},
   "source": [
    "#### Answer 2.22\n",
    "\n",
    "To solve this we use Equation 2.73 for the period of eccentric orbits, combined with Equation 2.63 expressing the radius of perigee:\n",
    "\n",
    "\\begin{gather}\n",
    "    T = \\frac{2 \\pi}{\\mu} a^\\frac{3}{2} \\\\\n",
    "    r_p = a(1-e) -> a = \\frac{r_p}{1-e}\\\\\n",
    "    \\therefore T = \\frac{2 \\pi}{\\mu} (\\frac{r_p}{1-e})^\\frac{3}{2} \\\\\n",
    "    \\therefore e = 1 - r_p (\\frac{T \\mu}{2 \\pi})^{-\\frac{2}{3}}\n",
    "\\end{gather}"
   ]
  },
  {
   "cell_type": "code",
   "execution_count": 15,
   "metadata": {},
   "outputs": [
    {
     "name": "stdout",
     "output_type": "stream",
     "text": [
      "Eccentricity: 0.01945\n"
     ]
    }
   ],
   "source": [
    "# Answer 2.22\n",
    "\n",
    "# Inputs\n",
    "Re = 6371e3 # m, Earth radius\n",
    "Me = 5.97e24 # kg, Earth mass\n",
    "G = 6.67e-11 # Gravitational constant\n",
    "altitude = 150e3 # Altitude, m\n",
    "T = 90 * 60 # Period, seonds\n",
    "\n",
    "# Intermediates\n",
    "mu = G*Me\n",
    "rp = Re + altitude\n",
    "\n",
    "# Calculate eccentricity\n",
    "e = 1 - rp * (T * np.sqrt(mu) / (2 * np.pi)) ** (-2/3)\n",
    "print(f'Eccentricity: {np.round(e, 5)}')"
   ]
  },
  {
   "attachments": {},
   "cell_type": "markdown",
   "metadata": {},
   "source": [
    "### `Question 2.35`\n",
    "\n",
    "A satellite is in a circular orbit at an altitude of 320 km above the earth’s surface. If an onboard rocket provides a delta-v of 500 m/s in the direction of the satellite’s motion, calculate the altitude of the new orbit’s apogee.\n",
    "\n",
    "{Ans.: 2390 km}"
   ]
  },
  {
   "attachments": {},
   "cell_type": "markdown",
   "metadata": {},
   "source": [
    "#### Answer 2.35\n",
    "\n",
    "A prograde burn in a circular orbit will result in the conversion of an orbit to an elliptcal (or potentially hyperbolic) orbit, with the location of the prograde burn in the orbit corresponding to the perigee of the new orbit. \n",
    "\n",
    "For this question we assume that the final orbit is elliptical, and that all of the dV was imparted instantaneously.\n",
    "\n",
    "Using Equation 2.71 for conservation of energy, we can solve for the semimajor axis of the new ellipse:\n",
    "\n",
    "\\begin{gather}\n",
    "\\frac{v^2}{2} - \\frac{\\mu}{r} = -\\frac{\\mu}{2a} \\\\\n",
    "\\therefore a = -\\frac{\\mu}{2(\\frac{v^2}{2} - \\frac{\\mu}{r})}\n",
    "\\end{gather}\n",
    "\n",
    "The apogee altitude is then therefore twice a, less the earth diameter and the perigee altitude.\n"
   ]
  },
  {
   "cell_type": "code",
   "execution_count": 29,
   "metadata": {},
   "outputs": [
    {
     "name": "stdout",
     "output_type": "stream",
     "text": [
      "Apogee Altitude: 2388.0 km\n"
     ]
    }
   ],
   "source": [
    "# Answer 2.35\n",
    "\n",
    "# Inputs\n",
    "Re = 6371e3 # m, Earth radius\n",
    "Me = 5.97e24 # kg, Earth mass\n",
    "G = 6.67e-11 # Gravitational constant\n",
    "altitude_p = 320e3 # Altitude, m\n",
    "dV = 500 # m/s\n",
    "\n",
    "# Intermediates\n",
    "mu = G*Me\n",
    "rp = Re + altitude_p\n",
    "\n",
    "# Initial conditions\n",
    "v1 = np.sqrt(mu/rp)\n",
    "v2 = v1 + dV\n",
    "\n",
    "# Calculating semimajor axis\n",
    "energy = (v2**2/2) - (mu/rp)\n",
    "a = -mu/(2*(energy))\n",
    "\n",
    "# Calculating apogee\n",
    "altitude_a = 2*a - 2*Re - altitude_p\n",
    "print(f'Apogee Altitude: {np.round(altitude_a*1e-3)} km')\n"
   ]
  },
  {
   "attachments": {},
   "cell_type": "markdown",
   "metadata": {},
   "source": [
    "### `Question 2.37`\n",
    "\n",
    "A satellite is in a circular earth orbit of altitude 400 km. Determine the new perigee and apogee altitudes if the satellite on-board engine\n",
    "(a) increases the speed of the satellite in the flight direction by 240 m/s;\n",
    "(b) gives the satellite a radial (outward) component of velocity of 240 m/s.\n",
    "\n",
    "{Ans.: (a) zA = 1230 km, zP = 400 km; (b) zA = 621 km, zP = 196 km}"
   ]
  },
  {
   "attachments": {},
   "cell_type": "markdown",
   "metadata": {},
   "source": [
    "#### Answer 2.37\n",
    "\n",
    "For part a), we use the same approach as Q2.35.\n",
    "\n",
    "\n",
    "For part b), we modify the approach by considering that the new velocity term must be added in quadrature:\n",
    "\n",
    "\\begin{equation}\n",
    "v_2 = \\sqrt{v_1^2 + dV^2}\n",
    "\\end{equation}\n",
    "\n",
    "\n",
    "Also, the addition of the radial velocity component means perigee is no longer the initial radius. We calculate specific angular momentum and use the following equation to solve for eccentricity, which can be combined with Equation 2.63 to solve for apogee and perigee radii:\n",
    "\n",
    "\\begin{gather}\n",
    "h = r_1 * v_1 = \\sqrt{\\mu a (1 - e^2)} \\\\\n",
    "r_p = a(1 - e) \\\\\n",
    "r_a = 2a - r_p\n",
    "\\end{gather}"
   ]
  },
  {
   "cell_type": "code",
   "execution_count": 28,
   "metadata": {},
   "outputs": [
    {
     "name": "stdout",
     "output_type": "stream",
     "text": [
      "Part a)\n",
      "Apogee Altitude: 1319.0 km\n",
      "Perigee Altitude: 400.0 km\n",
      "\n",
      "Part b)\n",
      "Apogee Altitude: 619.0 km\n",
      "Perigee Altitude: 195.0 km\n"
     ]
    }
   ],
   "source": [
    "# Answer 2.37 a\n",
    "\n",
    "# Inputs\n",
    "Re = 6371e3 # m, Earth radius\n",
    "Me = 5.97e24 # kg, Earth mass\n",
    "G = 6.67e-11 # Gravitational constant\n",
    "altitude_1 = 400e3 # Altitude, m\n",
    "dV = 240 # m/s\n",
    "\n",
    "# Intermediates\n",
    "mu = G*Me\n",
    "r1 = Re + altitude_1\n",
    "\n",
    "# Initial conditions \n",
    "v1 = np.sqrt(mu/r1)\n",
    "\n",
    "# Part a)\n",
    "v2 = v1 + dV\n",
    "\n",
    "# Calculating semimajor axis\n",
    "energy = (v2**2/2) - (mu/r1)\n",
    "a = -mu/(2*(energy))\n",
    "\n",
    "# Calculating apogee\n",
    "altitude_apo_1 = 2*a - 2*Re - altitude_1\n",
    "print('Part a)')\n",
    "print(f'Apogee Altitude: {np.round(altitude_apo_1*1e-3)} km')\n",
    "print(f'Perigee Altitude: {np.round(altitude_1*1e-3)} km')\n",
    "\n",
    "\n",
    "# Part b)\n",
    "v2 = np.sqrt(v1**2 + dV**2)\n",
    "\n",
    "# Calculating semimajor axis\n",
    "energy = (v2**2/2) - (mu/r1)\n",
    "a = -mu/(2*(energy))\n",
    "\n",
    "# Calculating angular momentum\n",
    "h = r1 * v1\n",
    "\n",
    "# Calculating eccentricity\n",
    "e = np.sqrt(1 - h**2/(mu*a))\n",
    "\n",
    "# Calculating apogee\n",
    "rp = a*(1-e)\n",
    "ra = 2*a-rp\n",
    "\n",
    "altitude_apo_2 = ra - Re\n",
    "altitude_peri_2 = rp - Re\n",
    "\n",
    "print('\\nPart b)')\n",
    "print(f'Apogee Altitude: {np.round(altitude_apo_2*1e-3)} km')\n",
    "print(f'Perigee Altitude: {np.round(altitude_peri_2*1e-3)} km')\n"
   ]
  }
 ],
 "metadata": {
  "kernelspec": {
   "display_name": "Python 3",
   "language": "python",
   "name": "python3"
  },
  "language_info": {
   "codemirror_mode": {
    "name": "ipython",
    "version": 3
   },
   "file_extension": ".py",
   "mimetype": "text/x-python",
   "name": "python",
   "nbconvert_exporter": "python",
   "pygments_lexer": "ipython3",
   "version": "3.10.1"
  },
  "orig_nbformat": 4,
  "vscode": {
   "interpreter": {
    "hash": "ad3745c47a52df6303fadb7ab340967cc6b722f5f069df5e239b86fc995e40f7"
   }
  }
 },
 "nbformat": 4,
 "nbformat_minor": 2
}
