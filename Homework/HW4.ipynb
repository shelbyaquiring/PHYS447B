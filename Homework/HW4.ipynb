{
 "cells": [
  {
   "attachments": {},
   "cell_type": "markdown",
   "metadata": {},
   "source": [
    "# PHYS 447B: Orbital Mechanics\n",
    "## Homework 4\n",
    "\n",
    "Shelby Quiring, 10157162, Jan 25th 2023\n",
    "\n",
    "Questions: 4.1, 4.3, 4.5, 4.8"
   ]
  },
  {
   "cell_type": "code",
   "execution_count": 2,
   "metadata": {},
   "outputs": [],
   "source": [
    "# Library imports\n",
    "import numpy as np\n",
    "import matplotlib.pyplot as plt"
   ]
  },
  {
   "attachments": {},
   "cell_type": "markdown",
   "metadata": {},
   "source": [
    "### `Question 4.1`\n",
    "\n",
    "Find the orbital elements of a geocentric satellite whose inertial position and velocity vectors in a geocentric equatorial frame are:\n",
    "\n",
    "\\begin{gather}\n",
    "\\textbf{r} = 2615 \\hat{I} + 15 881 \\hat{J} + 3980 \\hat{K} \\ (km) \\\\\n",
    "\\textbf{v} = −2.767 \\hat{I} − 0.7905 \\hat{J} + 4.980 \\hat{K} \\ (km/s)\n",
    "\\end{gather}\n",
    "\n",
    "{Ans.: e = 0.3760, h = 95 360 km2/s, i = 63.95◦, $\\Omega$ = 73.71◦, ω = 15.43◦, θ = 0.06764◦}\n"
   ]
  },
  {
   "attachments": {},
   "cell_type": "markdown",
   "metadata": {},
   "source": [
    "#### Answer 4.1\n",
    "\n",
    "To solve this problem, we take the following steps, as outlined in section 4.4 of the textbook 'Orbital Mechanics for Engineering Students' by Howard Curtis:\n",
    "\n",
    "1. Calculate the magnitude of the position and velocity, $r$ and $v$, as the magnitude of each vector.\n",
    "\n",
    "2. Calculate the radial velocity $v_r = \\mathbf{r} \\cdot \\mathbf{v}/r$. If radial velocity is positive the satellite is flying away from perigee, while if it is negative the satellite flies towards perigee.\n",
    "\n",
    "3. Calculate the specific angular momentum, $\\mathbf{h} = \\mathbf{r} + \\mathbf{v}$.\n",
    "\n",
    "4. Calculate the inclination, $i = \\cos^{-1}{(\\frac{h_z}{h})}$.\n",
    "\n",
    "5. Calculate the node line vector, $N = \\mathbf{\\hat{k}} \\times \\mathbf{h}$, and its magnitude.\n",
    "\n",
    "6. Calculate the right ascension of the ascending node, $\\Omega = \\cos^{-1}{(\\frac{N_x}{N})}$\n",
    "\n",
    "7. Calculate the eccentricity vector and its magnitude, $\\mathbf{e} = \\frac{1}{\\mu} [(v^2 - \\frac{\\mu}{r})\\mathbf{r}-rv_r\\mathbf{v}]$.\n",
    "\n",
    "8. Calculate the argument of perigee, $\\omega = \\cos^{-1}({\\mathbf{N \\cdot e}/Ne)}$.\n",
    "\n",
    "9. Calculate the true anomaly, $\\theta = \\cos^{-1}{(\\frac{\\mathbf{e \\cdot r}}{er})}$\n",
    "\n",
    "The approach described above is generalized into a function for future work below:"
   ]
  },
  {
   "cell_type": "code",
   "execution_count": 13,
   "metadata": {},
   "outputs": [
    {
     "name": "stdout",
     "output_type": "stream",
     "text": [
      "Angular Momentum: 95360.0 [km^2/s]\n",
      "Eccentricity: 0.3937\n",
      "RAAN: 73.7073 [deg]\n",
      "Inclination: 63.9517 [deg]\n",
      "Angular Momentum: 15.4319 [deg]\n",
      "Angular Momentum: 0.0654 [deg]\n"
     ]
    }
   ],
   "source": [
    "# Answer 4.1\n",
    "\n",
    "G = 6.67e-11\n",
    "Me = 5.9e24\n",
    "mu = G*Me\n",
    "\n",
    "def coe_from_sv(rvec, vvec, mu):\n",
    "    rvec = np.array(rvec)\n",
    "    vvec = np.array(vvec)\n",
    "    # Caculate magnitude of position and velocity\n",
    "    r = np.linalg.norm(rvec)\n",
    "    v = np.linalg.norm(vvec)\n",
    "\n",
    "    # Calculate radial velocity\n",
    "    vr = np.dot(rvec, vvec) / r\n",
    "\n",
    "    # Calculate angular momentum \n",
    "    hvec = np.cross(rvec, vvec)\n",
    "    h = np.linalg.norm(hvec)\n",
    "\n",
    "    # Calculate inclination\n",
    "    i = np.arccos(hvec[-1]/h)\n",
    "\n",
    "    # Calculate node line vector\n",
    "    nvec = np.cross([0, 0, 1], hvec)\n",
    "    n = np.linalg.norm(nvec)\n",
    "\n",
    "    # Calculate right ascenscion of ascending node\n",
    "    if n != 0:\n",
    "        omega = np.arccos(nvec[0]/n)\n",
    "        if nvec[1] < 0:\n",
    "            omega = 2*np.pi - omega\n",
    "    else:\n",
    "        omega = 0\n",
    "        \n",
    "    # Calculate eccentricity\n",
    "    evec = 1/mu * ((v**2 - mu/r) * rvec - r*vr*vvec)\n",
    "    e = np.linalg.norm(evec)\n",
    "\n",
    "    # Calculate argument of perigee\n",
    "    if n != 0:\n",
    "        w = np.arccos(np.dot(nvec, evec)/(n*e))\n",
    "        if evec[-1] < 0:\n",
    "            w = 2*np.pi - w\n",
    "    else:\n",
    "        w = 0\n",
    "\n",
    "    # Calculate true anomaly\n",
    "    theta = np.arccos(np.dot(evec, rvec)/(e*r))\n",
    "    if vr < 0:\n",
    "        theta = 2*np.pi - theta\n",
    "\n",
    "\n",
    "    return h, e, omega, i, w, theta\n",
    "\n",
    "\n",
    "h, e, omega, i, w, theta = coe_from_sv([2615e3, 15881e3, 3980e3], [-2767, -790.5, 4980], mu)\n",
    "\n",
    "print(f'Angular Momentum: {np.round(h*1e-6)} [km^2/s]')\n",
    "print(f'Eccentricity: {np.round(e, 4)}')\n",
    "print(f'RAAN: {np.round(omega * 180/np.pi, 4)} [deg]')\n",
    "print(f'Inclination: {np.round(i * 180/np.pi, 4)} [deg]')\n",
    "print(f'Argument of Perigee: {np.round(w * 180/np.pi, 4)} [deg]')\n",
    "print(f'True Anomaly: {np.round(theta * 180/np.pi, 4)} [deg]')"
   ]
  },
  {
   "attachments": {},
   "cell_type": "markdown",
   "metadata": {
    "slideshow": {
     "slide_type": "slide"
    }
   },
   "source": [
    "### `Question 4.3`\n",
    "\n",
    "At time to the position $\\textbf{r}$ and velocity $\\textbf{v}$ of a satellite in the geocentric equatorial frame are:\n",
    "\n",
    "\\begin{gather}\n",
    "\\textbf{r} = 6472.7 \\hat{I} − 7470.8 \\hat{J} − 2469.8 \\hat{K} \\ (km) \\\\\n",
    "\\textbf{v} = 3.9914 \\hat{I} + 2.7916 \\hat{J} − 3.2948 \\hat{K} \\ (km/s)\n",
    "\\end{gather}\n",
    "\n",
    "Find the orbital elements.\n",
    "\n",
    "{Ans.: h = 58 461 km2/s,e = 0.2465, $\\Omega$ = 110◦, ω = 75◦, θ = 130◦, i = 35◦}"
   ]
  },
  {
   "attachments": {},
   "cell_type": "markdown",
   "metadata": {},
   "source": [
    "#### Answer 4.3\n",
    "\n",
    "We use the implementation of the dunction defined in Answer 4.1 below."
   ]
  },
  {
   "cell_type": "code",
   "execution_count": 14,
   "metadata": {},
   "outputs": [
    {
     "name": "stdout",
     "output_type": "stream",
     "text": [
      "Angular Momentum: 58461.0 [km^2/s]\n",
      "Eccentricity: 0.2416\n",
      "RAAN: 109.9996 [deg]\n",
      "Inclination: 35.0 [deg]\n",
      "Argument of Perigee: 77.337 [deg]\n",
      "True Anomaly: 127.6634 [deg]\n"
     ]
    }
   ],
   "source": [
    "# Answer 4.3\n",
    "\n",
    "h, e, omega, i, w, theta = coe_from_sv([6472.7e3, -7470.8e3, -2469.8e3], \n",
    "                                       [3991.4, 2791.6, -3294.8], mu)\n",
    "\n",
    "print(f'Angular Momentum: {np.round(h*1e-6)} [km^2/s]')\n",
    "print(f'Eccentricity: {np.round(e, 4)}')\n",
    "print(f'RAAN: {np.round(omega * 180/np.pi, 4)} [deg]')\n",
    "print(f'Inclination: {np.round(i * 180/np.pi, 4)} [deg]')\n",
    "print(f'Argument of Perigee: {np.round(w * 180/np.pi, 4)} [deg]')\n",
    "print(f'True Anomaly: {np.round(theta * 180/np.pi, 4)} [deg]')"
   ]
  },
  {
   "attachments": {},
   "cell_type": "markdown",
   "metadata": {},
   "source": [
    "### `Question 4.5`\n",
    "\n",
    "Given that, relative to the geocentric equatorial frame:\n",
    "\\begin{gather}\n",
    "\\textbf{r} = −6634.2 \\hat{I} − 1261.8 \\hat{J} − 5230.9 \\hat{K} \\ (km)\n",
    "\\end{gather}\n",
    "\n",
    "the eccentricity vector is:\n",
    "\n",
    "\\begin{gather}\n",
    "e = −0.40907 \\hat{I} − 0.48751 \\hat{J} − 0.63640 \\hat{K} \n",
    "\\end{gather}\n",
    "\n",
    "and the satellite is flying towards perigee, calculate the inclination of the orbit.\n",
    "\n",
    "{Ans.: 69.3◦}"
   ]
  },
  {
   "attachments": {},
   "cell_type": "markdown",
   "metadata": {},
   "source": [
    "#### Answer 4.5\n",
    "\n",
    "To calculate inclination we must calculate the angular momentum vector. We know 2 things:\n",
    "\n",
    "1. The direction of the angular momentum vector is normal to both the eccentricity and position vectors:\n",
    "\n",
    "\\begin{equation}\n",
    "\\hat{h} = \\pm \\hat{r} \\times \\hat{e}\n",
    "\\end{equation}\n"
   ]
  },
  {
   "cell_type": "code",
   "execution_count": 16,
   "metadata": {},
   "outputs": [
    {
     "name": "stdout",
     "output_type": "stream",
     "text": [
      "Inclination: 69.2953 [deg]\n"
     ]
    }
   ],
   "source": [
    "# Answer 4.5\n",
    "\n",
    "rvec = np.array([-6634.2e3, -1261.8e3, -5230.9e3])\n",
    "evec = np.array([-0.40907, -0.48751, -0.63640])\n",
    "\n",
    "r = np.linalg.norm(rvec)\n",
    "e = np.linalg.norm(evec)\n",
    "\n",
    "h_hat = np.cross(rvec, evec) / (r*e)\n",
    "i = np.arccos(h_hat[-1])\n",
    "\n",
    "print(f'Inclination: {np.round(i * 180/np.pi, 4)} [deg]')"
   ]
  },
  {
   "attachments": {
    "image.png": {
     "image/png": "[encoded data removed]"
    }
   },
   "cell_type": "markdown",
   "metadata": {},
   "source": [
    "### `Question 4.8`\n",
    "\n",
    "Calculate the transformation matrix [Q] for the sequence of two rotations: \n",
    "α = 40◦ about the positive X axis, followed by β = 25◦ about the positive y' axis. The result is that the XYZ axes are rotated into the x''y'\n",
    "z'' axes.\n",
    "\n",
    "<center>\n",
    "\n",
    "![image.png](attachment:image.png) <br>\n",
    "**Fig:** Rotated Axes\n",
    "</center>\n",
    "\n",
    "\n",
    "{Partial ans.: Q11 = 0.9063 Q12 = 0.2716 Q13 = −0.3237}"
   ]
  },
  {
   "attachments": {},
   "cell_type": "markdown",
   "metadata": {},
   "source": [
    "#### Answer 4.8\n",
    "\n",
    "We can construct the total transformation matrix $Q_{tot}$ as the product of 2 rotation matricies $Q_{\\alpha}$ and $Q_{\\beta}$:\n",
    "\n",
    "\\begin{equation}\n",
    "Q_{tot} = Q_{\\beta}Q_{\\alpha}\n",
    "\\end{equation}\n",
    "\n",
    "\\begin{equation}\n",
    "Q_{\\alpha} = \n",
    "\\begin{bmatrix}\n",
    "1 & 0 & 0 \\\\\n",
    "0 & \\cos{\\alpha} & -\\sin{\\alpha} \\\\\n",
    "0 & \\sin{\\alpha} & \\cos{\\alpha} \\\\\n",
    "\\end{bmatrix}\n",
    "\\end{equation}\n",
    "\n",
    "\\begin{equation}\n",
    "Q_{\\beta} = \n",
    "\\begin{bmatrix}\n",
    "\\cos{\\alpha} & 0 & \\sin{\\alpha} \\\\\n",
    "0 & 1 & 0 \\\\\n",
    "-\\sin{\\alpha} & 0 & \\cos{\\alpha}\n",
    "\\end{bmatrix}\n",
    "\\end{equation}"
   ]
  },
  {
   "cell_type": "code",
   "execution_count": 22,
   "metadata": {},
   "outputs": [
    {
     "name": "stdout",
     "output_type": "stream",
     "text": [
      "Qt:\n",
      "[[ 0.90630779  0.27165378  0.32374437]\n",
      " [ 0.          0.76604444 -0.64278761]\n",
      " [-0.64278761  0.49240388  0.58682409]]\n"
     ]
    }
   ],
   "source": [
    "# Answer 4.8\n",
    "\n",
    "alpha = 40 * np.pi / 180\n",
    "beta = 25 * np.pi / 180\n",
    "\n",
    "Qa = np.array([[1, 0, 0], [0, np.cos(alpha), -np.sin(alpha)], [0, np.sin(alpha), np.cos(alpha)]])\n",
    "Qb = np.array([[np.cos(beta), 0, np.sin(beta)], [0, 1, 0], [-np.sin(alpha), 0, np.cos(alpha)]])\n",
    "\n",
    "Qt = np.matmul(Qb, Qa)\n",
    "\n",
    "print(f'Qt:\\n{Qt}')\n"
   ]
  }
 ],
 "metadata": {
  "kernelspec": {
   "display_name": "Python 3",
   "language": "python",
   "name": "python3"
  },
  "language_info": {
   "codemirror_mode": {
    "name": "ipython",
    "version": 3
   },
   "file_extension": ".py",
   "mimetype": "text/x-python",
   "name": "python",
   "nbconvert_exporter": "python",
   "pygments_lexer": "ipython3",
   "version": "3.10.1"
  },
  "orig_nbformat": 4,
  "vscode": {
   "interpreter": {
    "hash": "ad3745c47a52df6303fadb7ab340967cc6b722f5f069df5e239b86fc995e40f7"
   }
  }
 },
 "nbformat": 4,
 "nbformat_minor": 2
}
