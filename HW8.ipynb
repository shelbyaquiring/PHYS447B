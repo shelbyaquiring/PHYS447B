{
 "cells": [
  {
   "attachments": {},
   "cell_type": "markdown",
   "metadata": {},
   "source": [
    "# PHYS 447B: Orbital Mechanics\n",
    "## Homework 8\n",
    "\n",
    "Shelby Quiring, 10157162, Feb 20th 2023\n",
    "\n",
    "Questions: 6.18, 6.20, 6.28"
   ]
  },
  {
   "cell_type": "code",
   "execution_count": 2,
   "metadata": {},
   "outputs": [],
   "source": [
    "# Library imports\n",
    "import numpy as np\n",
    "import matplotlib.pyplot as plt"
   ]
  },
  {
   "attachments": {},
   "cell_type": "markdown",
   "metadata": {},
   "source": [
    "### `Question 6.18`\n",
    "\n",
    "A satellite is in elliptical orbit 1. Calculate the true anomaly θ (relative to the apse line of orbit 1) of an impulsive maneuver which rotates the apse line at an angle η counterclockwise but leaves the eccentricity and the angular momentum unchanged.\n",
    "\n",
    "{Ans.: θ = η/2}\n"
   ]
  },
  {
   "attachments": {},
   "cell_type": "markdown",
   "metadata": {},
   "source": [
    "#### Answer 6.18\n",
    "\n",
    "The opportunity for a single-impulse apse line rotation occurs where the apse lines intersect. Since an elliptical orbit is symmetric about its apse line, an orbit rotated by angle $\\eta$ would intersect with the original orbit at a true anomaly relative to the original apse line of $\\eta/2$."
   ]
  },
  {
   "attachments": {
    "image.png": {
     "image/png": "[encoded data removed]"
    }
   },
   "cell_type": "markdown",
   "metadata": {
    "slideshow": {
     "slide_type": "slide"
    }
   },
   "source": [
    "### `Question 6.20`\n",
    "\n",
    "Calculate the delta-v required at A in orbit 1 for a single impulsive maneuver to rotate the apse line 180◦ counterclockwise (to become orbit 2), but keep the eccentricity e and the angular momentum h the same.\n",
    "\n",
    "![image.png](attachment:image.png)\n",
    "\n",
    "{Ans.: $\\Delta v$ = 2µe/h}"
   ]
  },
  {
   "attachments": {},
   "cell_type": "markdown",
   "metadata": {},
   "source": [
    "#### Answer 6.20\n",
    "\n",
    "The $\\Delta v$ required is the magnitude of the vector difference between the velocities before and after the maneuver:\n",
    "\n",
    "\\begin{gather}\n",
    "    \\Delta v = ||\\mathbf{v}_2 - \\mathbf{v}_1||\n",
    "\\end{gather}\n",
    "\n",
    "Note here the symmetry of the orbits. The maneuver take place at a true anomaly of $90^o$ relative to the apse line of the first orbit. The magnitude of the velocity vector after the maneuver is the same as before, since it is in a symmetric position in the orbit. However, the direction has changed. Critically, it is only the radial component of the velocity that has changed sign. Therefore:\n",
    "\n",
    "\\begin{gather}\n",
    "    v_r = \\frac{\\mu}{h}e \\sin{\\theta} \\\\\n",
    "    \\therefore \\Delta v = 2v_r = 2 \\frac{\\mu e}{h}\n",
    "\\end{gather}"
   ]
  },
  {
   "attachments": {},
   "cell_type": "markdown",
   "metadata": {},
   "source": [
    "### `Question 6.28`\n",
    "\n",
    "A spacecraft is in a 300 km circular parking orbit. It is desired to increase the altitude to 600 km and change the inclination by 20◦. Find the total delta-v required if:\n",
    "\n",
    "(a) the plane change is made after insertion into the 600 km orbit (so that there are a total of three delta-v burns);\n",
    "\n",
    "(b) the plane change and insertion into the 600 km orbit are accomplished simultaneously (so that the total number of delta-v burns is two);\n",
    "\n",
    "(c) the plane change is made upon departing the lower orbit (so that the total number of delta-v burns is two).\n",
    "\n",
    "{Ans.: (a) 2.793 km/s; (b) 2.696 km/s; (c) 2.783 km/s}"
   ]
  },
  {
   "cell_type": "code",
   "execution_count": 31,
   "metadata": {},
   "outputs": [
    {
     "name": "stdout",
     "output_type": "stream",
     "text": [
      "dVa: 2.6313 [km/s]\n",
      "dVb: 2.6995 [km/s]\n",
      "dVc: 2.6191 [km/s]\n"
     ]
    }
   ],
   "source": [
    "# Answer 6.28\n",
    "\n",
    "# Define inputs\n",
    "G = 6.67e-11\n",
    "Me = 5.972e24 # kg\n",
    "mu = 398600 * 1000**3\n",
    "Re = 6371e3 # m, earth radius\n",
    "a1 = 300e3 # m, altitude\n",
    "a2 = 600e3 # m, altitude\n",
    "\n",
    "delta = 20 * np.pi / 180 # plane change, rad\n",
    "\n",
    "# Calculate the radii of the initial and final orbits\n",
    "r1 = Re + a1\n",
    "r2 = Re + a2\n",
    "\n",
    "# Eccentricity and angular momentum of hohmann ellipse\n",
    "e = (r2 - r1) / (r2 + r1)\n",
    "h = np.sqrt(r1 * mu * (1+e))\n",
    "\n",
    "# Calculate the magnitude of the velocity in the circular orbits\n",
    "v1 = np.sqrt(G*Me/r1)\n",
    "v2 = np.sqrt(G*Me/r2)\n",
    "\n",
    "# Calculate the dV for case a \n",
    "dVa_1 = h / r1 - v1 # Apogee raise\n",
    "dVa_2 = h / r2 - v2 # Perigee raise\n",
    "dVa_3 = v2*np.sqrt(2*(1 - np.cos(delta))) # Plane change\n",
    "\n",
    "dVa = dVa_1 + dVa_2 + dVa_3\n",
    "\n",
    "print(f'dVa: {np.round(dVa*1e-3,4)} [km/s]')\n",
    "\n",
    "# Calculate the dV for case b \n",
    "V2a = np.array([0, -(h / r2), 0])\n",
    "V2b = np.array([0, -v2*np.cos(delta), -v2*np.sin(delta)])\n",
    "\n",
    "dVb_1 = h / r1 - v1\n",
    "dVb_2 = np.linalg.norm(V2a - V2b)\n",
    "\n",
    "dVb = dVb_1 + dVb_2\n",
    "\n",
    "print(f'dVb: {np.round(dVb*1e-3,4)} [km/s]')\n",
    "\n",
    "# Calculate the dV for case c\n",
    "V1a = np.array([0, v1, 0])\n",
    "V1b = np.array([0, (h / r1)*np.cos(delta), (h / r1)*np.sin(delta)])\n",
    "\n",
    "dVc_1 = np.linalg.norm(V1a - V1b)\n",
    "dVc_2 = h / r2 - v2\n",
    "\n",
    "dVc = dVc_1 + dVc_2\n",
    "\n",
    "print(f'dVc: {np.round(dVc*1e-3,4)} [km/s]')\n",
    "\n",
    "# I'm not getting the same answer as the textbook here, but I think this is set up correctly.\n",
    "# Answer b seems similar.\n",
    "\n"
   ]
  }
 ],
 "metadata": {
  "kernelspec": {
   "display_name": "Python 3",
   "language": "python",
   "name": "python3"
  },
  "language_info": {
   "codemirror_mode": {
    "name": "ipython",
    "version": 3
   },
   "file_extension": ".py",
   "mimetype": "text/x-python",
   "name": "python",
   "nbconvert_exporter": "python",
   "pygments_lexer": "ipython3",
   "version": "3.10.1"
  },
  "orig_nbformat": 4,
  "vscode": {
   "interpreter": {
    "hash": "ad3745c47a52df6303fadb7ab340967cc6b722f5f069df5e239b86fc995e40f7"
   }
  }
 },
 "nbformat": 4,
 "nbformat_minor": 2
}
