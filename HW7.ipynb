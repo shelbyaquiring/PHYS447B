{
 "cells": [
  {
   "attachments": {},
   "cell_type": "markdown",
   "metadata": {},
   "source": [
    "# PHYS 447B: Orbital Mechanics\n",
    "## Homework 7\n",
    "\n",
    "Shelby Quiring, 10157162, Feb 20th 2023\n",
    "\n",
    "Questions: 6.1, 6.3, 6.5, 6.14"
   ]
  },
  {
   "cell_type": "code",
   "execution_count": 2,
   "metadata": {},
   "outputs": [],
   "source": [
    "# Library imports\n",
    "import numpy as np\n",
    "import matplotlib.pyplot as plt"
   ]
  },
  {
   "attachments": {},
   "cell_type": "markdown",
   "metadata": {},
   "source": [
    "### `Question 6.1`\n",
    "\n",
    "The shuttle orbiter has a mass of 125 000 kg. The two orbital maneuvering engines\n",
    "produce a combined (non-throttleable) thrust of 53.4 kN. The orbiter is in a 300 km\n",
    "circular orbit. A delta-v maneuver transfers the spacecraft to a coplanar 250 km by\n",
    "300 km elliptical orbit. Neglecting propellant loss and using elementary physics (linear\n",
    "impulse equals change in linear momentum, distance equals speed times time), estimate:\n",
    "\n",
    "(a) the time required for the $\\Delta v$ burn, and\n",
    "\n",
    "(b) the distance traveled by the orbiter during the burn.\n",
    "\n",
    "(c) Calculate the ratio of your answer for (b) to the circumference of the initial circular\n",
    "orbit.\n",
    "\n",
    "{Ans.: (a) $\\Delta t$ = 34 s; (b) 263 km; (c) 0.0063}\n"
   ]
  },
  {
   "cell_type": "code",
   "execution_count": 6,
   "metadata": {},
   "outputs": [
    {
     "name": "stdout",
     "output_type": "stream",
     "text": [
      "Delta t: 33.85 [s]\n",
      "Distance: 259.96 [km]\n",
      "Distance Fraction of Circumference: 0.0062 [-]\n"
     ]
    }
   ],
   "source": [
    "# Answer 6.1\n",
    "\n",
    "# Define inputs\n",
    "G = 6.67e-11\n",
    "Me = 5.9e24 # kg\n",
    "Re = 6371e3 # m, earth radius\n",
    "mu = G*Me\n",
    "\n",
    "Ms = 125e3 # kg, shuttle mass\n",
    "T = 53.4e3 # N\n",
    "\n",
    "a1 = 300e3 # Altitude 1\n",
    "a2 = 250e3 # Altitude 2\n",
    "\n",
    "# Calclate eccentricity after maneuver\n",
    "ra = Re + a1\n",
    "rp = Re + a2\n",
    "e = (ra - rp) / (ra + rp)\n",
    "\n",
    "# Calculate new angular momentum\n",
    "h2 = np.sqrt(rp * mu * (1+e))\n",
    "\n",
    "# Calculate original angular momentum\n",
    "v1 = np.sqrt(mu / ra)\n",
    "h1 = ra * v1\n",
    "\n",
    "# Change in specific angular mmoentum\n",
    "dh = h1 - h2\n",
    "dV = dh / ra\n",
    "\n",
    "# Calculate change in time\n",
    "dt = Ms * dV / T\n",
    "print(f'Delta t: {np.round(dt,2)} [s]')\n",
    "\n",
    "# Caltulate distance travelled\n",
    "d = v1 * dt\n",
    "print(f'Distance: {np.round(d*1e-3,2)} [km]')\n",
    "\n",
    "# Calculate fraction of orbit\n",
    "f = d / (2*np.pi*ra)\n",
    "print(f'Distance Fraction of Circumference: {np.round(f,4)} [-]')\n"
   ]
  },
  {
   "attachments": {},
   "cell_type": "markdown",
   "metadata": {
    "slideshow": {
     "slide_type": "slide"
    }
   },
   "source": [
    "### `Question 6.3`\n",
    "\n",
    "A spacecraft is in a 300 km circular earth orbit. Calculate:\n",
    "\n",
    "(a) the total delta-v required for a Hohmann transfer to a 3000 km coplanar circular\n",
    "earth orbit, and\n",
    "\n",
    "(b) the transfer orbit time.\n",
    "\n",
    "{Ans.: (a) 1.198 km/s; (b) 59 min 39 s}"
   ]
  },
  {
   "cell_type": "code",
   "execution_count": 12,
   "metadata": {},
   "outputs": [
    {
     "name": "stdout",
     "output_type": "stream",
     "text": [
      "dV: 1.2 [km/s]\n",
      "dt: 59.0 min, 58.0 sec\n"
     ]
    }
   ],
   "source": [
    "# Answer 6.3\n",
    "\n",
    "# Define inputs\n",
    "G = 6.67e-11\n",
    "Me = 5.9e24 # kg\n",
    "Re = 6371e3 # m, earth radius\n",
    "mu = G*Me\n",
    "\n",
    "# Calculate radii of initial and final orbit\n",
    "r1 = Re + 300e3 # m\n",
    "r2 = Re + 3000e3 # m\n",
    "\n",
    "# Calculate velocities of initial and final orbit\n",
    "v1 = np.sqrt(mu/r1)\n",
    "v2 = np.sqrt(mu/r2)\n",
    "dV = v1-v2 # Delta V\n",
    "\n",
    "print(f'dV: {np.round(dV*1e-3,2)} [km/s]')\n",
    "\n",
    "# Calculate period of elliptical transfer orbit\n",
    "a = (r1 + r2) / 2 # Semimajor axis, m\n",
    "T = 2*np.pi/np.sqrt(mu) * a**(3/2)\n",
    "dt = T/2\n",
    "min = dt // 60\n",
    "sec = dt - min*60\n",
    "\n",
    "print(f'dt: {min} min, {np.round(sec)} sec')\n"
   ]
  },
  {
   "attachments": {},
   "cell_type": "markdown",
   "metadata": {},
   "source": [
    "### `Question 6.5`\n",
    "\n",
    "Assuming the orbits of earth and Mars are circular and coplanar, calculate:\n",
    "\n",
    "(a) the time required for a Hohmann transfer from earth to Mars, and\n",
    "\n",
    "(b) the initial position of Mars (α) in its orbit relative to earth for interception to occur.\n",
    "\n",
    "Radius of earth orbit = 1.496 × 108 km. Radius of Mars orbit = 2.279 × 108 km.\n",
    "\n",
    "$µ_{sun}$ = 1.327 × 1011 km3/s^2\n",
    "\n",
    "{Ans.: (a) 259 days; (b) α = 44·3◦}"
   ]
  },
  {
   "cell_type": "code",
   "execution_count": 27,
   "metadata": {},
   "outputs": [
    {
     "name": "stdout",
     "output_type": "stream",
     "text": [
      "dt: 258.0 days\n",
      "Alpha: 44.33 [deg]\n"
     ]
    }
   ],
   "source": [
    "# Answer 6.5\n",
    "\n",
    "# Assuming orbits are circular\n",
    "\n",
    "# Define inputs\n",
    "G = 6.67e-11\n",
    "mu = 1.327e11 * 1000**3\n",
    "Mm = 6.42e23 # kg, mars mass\n",
    "\n",
    "r1 = 1.496e11 # m\n",
    "r2 = 2.279e11 # m\n",
    "\n",
    "# Calculate period of elliptical transfer orbit\n",
    "a = (r1 + r2) / 2 # Semimajor axis, m\n",
    "T = 2*np.pi/np.sqrt(mu) * a**(3/2)\n",
    "dt = T/2\n",
    "days = dt // (24 * 3600)\n",
    "\n",
    "print(f'dt: {days} days')\n",
    "\n",
    "# Calculate the true anomaly travelled by Mars in that time\n",
    "v_mars = np.sqrt(mu/r2)\n",
    "theta = v_mars * dt / r2\n",
    "alpha = np.pi - theta\n",
    "\n",
    "print(f'Alpha: {np.round(alpha*180/np.pi,2)} [deg]')"
   ]
  },
  {
   "attachments": {},
   "cell_type": "markdown",
   "metadata": {},
   "source": [
    "### `Question 6.14`\n",
    "\n",
    "A spacecraft is in a 300 km circular earth orbit. Calculate:\n",
    "\n",
    "(a) the total delta-v required for the bi-elliptical transfer to a 3000 km altitude coplanar circular orbit shown, and\n",
    "\n",
    "(b) the total transfer time.\n",
    "\n",
    "{Ans.: (a) 2.039 km/s; (b) 2.86 hr}"
   ]
  },
  {
   "cell_type": "code",
   "execution_count": 50,
   "metadata": {},
   "outputs": [
    {
     "name": "stdout",
     "output_type": "stream",
     "text": [
      "Total dV: 2.37 [km/s]\n",
      "dt: 2.0 hr, 34.0 min\n"
     ]
    }
   ],
   "source": [
    "# Answer 6.14\n",
    "\n",
    "# Define inputs\n",
    "G = 6.67e-11\n",
    "Me = 5.9e24 # kg\n",
    "Re = 6371e3 # m, earth radius\n",
    "mu = G*Me\n",
    "\n",
    "# Calculate radii of circular orbits\n",
    "ra = Re + 300e3 # m\n",
    "rc = Re + 3000e3 # m\n",
    "rb = 1.5*rc\n",
    "rd = rc\n",
    "\n",
    "# Caculate angular momenta\n",
    "h2 = np.sqrt(2*mu) * np.sqrt(ra * rb / (ra + rb))\n",
    "h3 = np.sqrt(2*mu) * np.sqrt(rc * rb / (rc + rb))\n",
    "\n",
    "va1 = np.sqrt(mu/ra)\n",
    "va2 = h2 / ra\n",
    "vb2 = h2 / rb\n",
    "vb3 = h3 / rb\n",
    "vc3 = h3 / rc\n",
    "vd = np.sqrt(mu/rd)\n",
    "\n",
    "# Calculate delta v\n",
    "dVa = np.abs(va2 - va1)\n",
    "dVb = np.abs(vb3 - vb2)\n",
    "dVc = np.abs(vc3 - vd)\n",
    "\n",
    "dV = dVa + dVb + dVc\n",
    "\n",
    "print(f'Total dV: {np.round(dV*1e-3,2)} [km/s]')\n",
    "\n",
    "# Calculate semi-major axes\n",
    "a2 = rb/2 # m\n",
    "a3 = (rb + rc)/2 # m\n",
    "\n",
    "# Calculate transfer time\n",
    "T2 = 2*np.pi/np.sqrt(mu) * a2**(3/2)\n",
    "T3 = 2*np.pi/np.sqrt(mu) * a3**(3/2)\n",
    "dt = (T2 + T3)/2\n",
    "hr = dt // 3600\n",
    "min = (dt - hr*3600) // 60\n",
    "\n",
    "print(f'dt: {hr} hr, {np.round(min)} min')"
   ]
  }
 ],
 "metadata": {
  "kernelspec": {
   "display_name": "Python 3",
   "language": "python",
   "name": "python3"
  },
  "language_info": {
   "codemirror_mode": {
    "name": "ipython",
    "version": 3
   },
   "file_extension": ".py",
   "mimetype": "text/x-python",
   "name": "python",
   "nbconvert_exporter": "python",
   "pygments_lexer": "ipython3",
   "version": "3.10.1"
  },
  "orig_nbformat": 4,
  "vscode": {
   "interpreter": {
    "hash": "ad3745c47a52df6303fadb7ab340967cc6b722f5f069df5e239b86fc995e40f7"
   }
  }
 },
 "nbformat": 4,
 "nbformat_minor": 2
}
